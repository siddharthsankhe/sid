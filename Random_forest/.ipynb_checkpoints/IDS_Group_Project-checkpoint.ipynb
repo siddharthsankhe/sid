{
 "cells": [
  {
   "cell_type": "markdown",
   "metadata": {},
   "source": [
    "## Group 14\n",
    "1. Viraj Sapre\n",
    "2. Shravankumar Hiregoudar\n",
    "3. Vipul Pawar\n",
    "4. Madhur Nagraj\n",
    "5. Saurabh Sankhe\n",
    "\n",
    "# Lending Club Data Analysis\n",
    "\n",
    "The basic aim of this data analysis project is to predict the loan_status of the applicant and for that we will be using Random Forest Ensemble cladssifier to predict the loan status of the applicant.\n"
   ]
  },
  {
   "cell_type": "markdown",
   "metadata": {},
   "source": [
    "## Importing the data"
   ]
  },
  {
   "cell_type": "code",
   "execution_count": 53,
   "metadata": {},
   "outputs": [],
   "source": [
    "import pandas as pd\n",
    "import seaborn as sns\n",
    "import numpy as np\n",
    "import matplotlib.pyplot as plt"
   ]
  },
  {
   "cell_type": "code",
   "execution_count": 55,
   "metadata": {},
   "outputs": [],
   "source": [
    "% matplotlib inline"
   ]
  },
  {
   "cell_type": "code",
   "execution_count": 57,
   "metadata": {},
   "outputs": [],
   "source": [
    "start_df = pd.read_csv('C://Users/Saurabh/Desktop/Home Work/IDS Assignments/data/Dataset/loan.csv', low_memory=False)"
   ]
  },
  {
   "cell_type": "code",
   "execution_count": 59,
   "metadata": {},
   "outputs": [
    {
     "data": {
      "text/html": [
       "<div>\n",
       "<style scoped>\n",
       "    .dataframe tbody tr th:only-of-type {\n",
       "        vertical-align: middle;\n",
       "    }\n",
       "\n",
       "    .dataframe tbody tr th {\n",
       "        vertical-align: top;\n",
       "    }\n",
       "\n",
       "    .dataframe thead th {\n",
       "        text-align: right;\n",
       "    }\n",
       "</style>\n",
       "<table border=\"1\" class=\"dataframe\">\n",
       "  <thead>\n",
       "    <tr style=\"text-align: right;\">\n",
       "      <th></th>\n",
       "      <th>id</th>\n",
       "      <th>member_id</th>\n",
       "      <th>loan_amnt</th>\n",
       "      <th>funded_amnt</th>\n",
       "      <th>funded_amnt_inv</th>\n",
       "      <th>term</th>\n",
       "      <th>int_rate</th>\n",
       "      <th>installment</th>\n",
       "      <th>grade</th>\n",
       "      <th>sub_grade</th>\n",
       "      <th>...</th>\n",
       "      <th>total_bal_il</th>\n",
       "      <th>il_util</th>\n",
       "      <th>open_rv_12m</th>\n",
       "      <th>open_rv_24m</th>\n",
       "      <th>max_bal_bc</th>\n",
       "      <th>all_util</th>\n",
       "      <th>total_rev_hi_lim</th>\n",
       "      <th>inq_fi</th>\n",
       "      <th>total_cu_tl</th>\n",
       "      <th>inq_last_12m</th>\n",
       "    </tr>\n",
       "  </thead>\n",
       "  <tbody>\n",
       "    <tr>\n",
       "      <th>0</th>\n",
       "      <td>1077501</td>\n",
       "      <td>1296599</td>\n",
       "      <td>5000.0</td>\n",
       "      <td>5000.0</td>\n",
       "      <td>4975.0</td>\n",
       "      <td>36 months</td>\n",
       "      <td>10.65</td>\n",
       "      <td>162.87</td>\n",
       "      <td>B</td>\n",
       "      <td>B2</td>\n",
       "      <td>...</td>\n",
       "      <td>NaN</td>\n",
       "      <td>NaN</td>\n",
       "      <td>NaN</td>\n",
       "      <td>NaN</td>\n",
       "      <td>NaN</td>\n",
       "      <td>NaN</td>\n",
       "      <td>NaN</td>\n",
       "      <td>NaN</td>\n",
       "      <td>NaN</td>\n",
       "      <td>NaN</td>\n",
       "    </tr>\n",
       "    <tr>\n",
       "      <th>1</th>\n",
       "      <td>1077430</td>\n",
       "      <td>1314167</td>\n",
       "      <td>2500.0</td>\n",
       "      <td>2500.0</td>\n",
       "      <td>2500.0</td>\n",
       "      <td>60 months</td>\n",
       "      <td>15.27</td>\n",
       "      <td>59.83</td>\n",
       "      <td>C</td>\n",
       "      <td>C4</td>\n",
       "      <td>...</td>\n",
       "      <td>NaN</td>\n",
       "      <td>NaN</td>\n",
       "      <td>NaN</td>\n",
       "      <td>NaN</td>\n",
       "      <td>NaN</td>\n",
       "      <td>NaN</td>\n",
       "      <td>NaN</td>\n",
       "      <td>NaN</td>\n",
       "      <td>NaN</td>\n",
       "      <td>NaN</td>\n",
       "    </tr>\n",
       "    <tr>\n",
       "      <th>2</th>\n",
       "      <td>1077175</td>\n",
       "      <td>1313524</td>\n",
       "      <td>2400.0</td>\n",
       "      <td>2400.0</td>\n",
       "      <td>2400.0</td>\n",
       "      <td>36 months</td>\n",
       "      <td>15.96</td>\n",
       "      <td>84.33</td>\n",
       "      <td>C</td>\n",
       "      <td>C5</td>\n",
       "      <td>...</td>\n",
       "      <td>NaN</td>\n",
       "      <td>NaN</td>\n",
       "      <td>NaN</td>\n",
       "      <td>NaN</td>\n",
       "      <td>NaN</td>\n",
       "      <td>NaN</td>\n",
       "      <td>NaN</td>\n",
       "      <td>NaN</td>\n",
       "      <td>NaN</td>\n",
       "      <td>NaN</td>\n",
       "    </tr>\n",
       "    <tr>\n",
       "      <th>3</th>\n",
       "      <td>1076863</td>\n",
       "      <td>1277178</td>\n",
       "      <td>10000.0</td>\n",
       "      <td>10000.0</td>\n",
       "      <td>10000.0</td>\n",
       "      <td>36 months</td>\n",
       "      <td>13.49</td>\n",
       "      <td>339.31</td>\n",
       "      <td>C</td>\n",
       "      <td>C1</td>\n",
       "      <td>...</td>\n",
       "      <td>NaN</td>\n",
       "      <td>NaN</td>\n",
       "      <td>NaN</td>\n",
       "      <td>NaN</td>\n",
       "      <td>NaN</td>\n",
       "      <td>NaN</td>\n",
       "      <td>NaN</td>\n",
       "      <td>NaN</td>\n",
       "      <td>NaN</td>\n",
       "      <td>NaN</td>\n",
       "    </tr>\n",
       "    <tr>\n",
       "      <th>4</th>\n",
       "      <td>1075358</td>\n",
       "      <td>1311748</td>\n",
       "      <td>3000.0</td>\n",
       "      <td>3000.0</td>\n",
       "      <td>3000.0</td>\n",
       "      <td>60 months</td>\n",
       "      <td>12.69</td>\n",
       "      <td>67.79</td>\n",
       "      <td>B</td>\n",
       "      <td>B5</td>\n",
       "      <td>...</td>\n",
       "      <td>NaN</td>\n",
       "      <td>NaN</td>\n",
       "      <td>NaN</td>\n",
       "      <td>NaN</td>\n",
       "      <td>NaN</td>\n",
       "      <td>NaN</td>\n",
       "      <td>NaN</td>\n",
       "      <td>NaN</td>\n",
       "      <td>NaN</td>\n",
       "      <td>NaN</td>\n",
       "    </tr>\n",
       "  </tbody>\n",
       "</table>\n",
       "<p>5 rows × 74 columns</p>\n",
       "</div>"
      ],
      "text/plain": [
       "        id  member_id  loan_amnt  funded_amnt  funded_amnt_inv        term  \\\n",
       "0  1077501    1296599     5000.0       5000.0           4975.0   36 months   \n",
       "1  1077430    1314167     2500.0       2500.0           2500.0   60 months   \n",
       "2  1077175    1313524     2400.0       2400.0           2400.0   36 months   \n",
       "3  1076863    1277178    10000.0      10000.0          10000.0   36 months   \n",
       "4  1075358    1311748     3000.0       3000.0           3000.0   60 months   \n",
       "\n",
       "   int_rate  installment grade sub_grade     ...      total_bal_il il_util  \\\n",
       "0     10.65       162.87     B        B2     ...               NaN     NaN   \n",
       "1     15.27        59.83     C        C4     ...               NaN     NaN   \n",
       "2     15.96        84.33     C        C5     ...               NaN     NaN   \n",
       "3     13.49       339.31     C        C1     ...               NaN     NaN   \n",
       "4     12.69        67.79     B        B5     ...               NaN     NaN   \n",
       "\n",
       "  open_rv_12m  open_rv_24m max_bal_bc all_util total_rev_hi_lim inq_fi  \\\n",
       "0         NaN          NaN        NaN      NaN              NaN    NaN   \n",
       "1         NaN          NaN        NaN      NaN              NaN    NaN   \n",
       "2         NaN          NaN        NaN      NaN              NaN    NaN   \n",
       "3         NaN          NaN        NaN      NaN              NaN    NaN   \n",
       "4         NaN          NaN        NaN      NaN              NaN    NaN   \n",
       "\n",
       "  total_cu_tl inq_last_12m  \n",
       "0         NaN          NaN  \n",
       "1         NaN          NaN  \n",
       "2         NaN          NaN  \n",
       "3         NaN          NaN  \n",
       "4         NaN          NaN  \n",
       "\n",
       "[5 rows x 74 columns]"
      ]
     },
     "execution_count": 59,
     "metadata": {},
     "output_type": "execute_result"
    }
   ],
   "source": [
    "start_df.head()"
   ]
  },
  {
   "cell_type": "code",
   "execution_count": 61,
   "metadata": {},
   "outputs": [],
   "source": [
    "#Making a copy of the dataframe\n",
    "df = start_df.copy()"
   ]
  },
  {
   "cell_type": "code",
   "execution_count": 65,
   "metadata": {},
   "outputs": [
    {
     "data": {
      "text/html": [
       "<div>\n",
       "<style scoped>\n",
       "    .dataframe tbody tr th:only-of-type {\n",
       "        vertical-align: middle;\n",
       "    }\n",
       "\n",
       "    .dataframe tbody tr th {\n",
       "        vertical-align: top;\n",
       "    }\n",
       "\n",
       "    .dataframe thead th {\n",
       "        text-align: right;\n",
       "    }\n",
       "</style>\n",
       "<table border=\"1\" class=\"dataframe\">\n",
       "  <thead>\n",
       "    <tr style=\"text-align: right;\">\n",
       "      <th></th>\n",
       "      <th>id</th>\n",
       "      <th>member_id</th>\n",
       "      <th>loan_amnt</th>\n",
       "      <th>funded_amnt</th>\n",
       "      <th>funded_amnt_inv</th>\n",
       "      <th>term</th>\n",
       "      <th>int_rate</th>\n",
       "      <th>installment</th>\n",
       "      <th>grade</th>\n",
       "      <th>sub_grade</th>\n",
       "      <th>...</th>\n",
       "      <th>total_bal_il</th>\n",
       "      <th>il_util</th>\n",
       "      <th>open_rv_12m</th>\n",
       "      <th>open_rv_24m</th>\n",
       "      <th>max_bal_bc</th>\n",
       "      <th>all_util</th>\n",
       "      <th>total_rev_hi_lim</th>\n",
       "      <th>inq_fi</th>\n",
       "      <th>total_cu_tl</th>\n",
       "      <th>inq_last_12m</th>\n",
       "    </tr>\n",
       "  </thead>\n",
       "  <tbody>\n",
       "    <tr>\n",
       "      <th>0</th>\n",
       "      <td>1077501</td>\n",
       "      <td>1296599</td>\n",
       "      <td>5000.0</td>\n",
       "      <td>5000.0</td>\n",
       "      <td>4975.0</td>\n",
       "      <td>0</td>\n",
       "      <td>10.65</td>\n",
       "      <td>162.87</td>\n",
       "      <td>B</td>\n",
       "      <td>B2</td>\n",
       "      <td>...</td>\n",
       "      <td>NaN</td>\n",
       "      <td>NaN</td>\n",
       "      <td>NaN</td>\n",
       "      <td>NaN</td>\n",
       "      <td>NaN</td>\n",
       "      <td>NaN</td>\n",
       "      <td>NaN</td>\n",
       "      <td>NaN</td>\n",
       "      <td>NaN</td>\n",
       "      <td>NaN</td>\n",
       "    </tr>\n",
       "    <tr>\n",
       "      <th>1</th>\n",
       "      <td>1077430</td>\n",
       "      <td>1314167</td>\n",
       "      <td>2500.0</td>\n",
       "      <td>2500.0</td>\n",
       "      <td>2500.0</td>\n",
       "      <td>1</td>\n",
       "      <td>15.27</td>\n",
       "      <td>59.83</td>\n",
       "      <td>C</td>\n",
       "      <td>C4</td>\n",
       "      <td>...</td>\n",
       "      <td>NaN</td>\n",
       "      <td>NaN</td>\n",
       "      <td>NaN</td>\n",
       "      <td>NaN</td>\n",
       "      <td>NaN</td>\n",
       "      <td>NaN</td>\n",
       "      <td>NaN</td>\n",
       "      <td>NaN</td>\n",
       "      <td>NaN</td>\n",
       "      <td>NaN</td>\n",
       "    </tr>\n",
       "    <tr>\n",
       "      <th>2</th>\n",
       "      <td>1077175</td>\n",
       "      <td>1313524</td>\n",
       "      <td>2400.0</td>\n",
       "      <td>2400.0</td>\n",
       "      <td>2400.0</td>\n",
       "      <td>0</td>\n",
       "      <td>15.96</td>\n",
       "      <td>84.33</td>\n",
       "      <td>C</td>\n",
       "      <td>C5</td>\n",
       "      <td>...</td>\n",
       "      <td>NaN</td>\n",
       "      <td>NaN</td>\n",
       "      <td>NaN</td>\n",
       "      <td>NaN</td>\n",
       "      <td>NaN</td>\n",
       "      <td>NaN</td>\n",
       "      <td>NaN</td>\n",
       "      <td>NaN</td>\n",
       "      <td>NaN</td>\n",
       "      <td>NaN</td>\n",
       "    </tr>\n",
       "    <tr>\n",
       "      <th>3</th>\n",
       "      <td>1076863</td>\n",
       "      <td>1277178</td>\n",
       "      <td>10000.0</td>\n",
       "      <td>10000.0</td>\n",
       "      <td>10000.0</td>\n",
       "      <td>0</td>\n",
       "      <td>13.49</td>\n",
       "      <td>339.31</td>\n",
       "      <td>C</td>\n",
       "      <td>C1</td>\n",
       "      <td>...</td>\n",
       "      <td>NaN</td>\n",
       "      <td>NaN</td>\n",
       "      <td>NaN</td>\n",
       "      <td>NaN</td>\n",
       "      <td>NaN</td>\n",
       "      <td>NaN</td>\n",
       "      <td>NaN</td>\n",
       "      <td>NaN</td>\n",
       "      <td>NaN</td>\n",
       "      <td>NaN</td>\n",
       "    </tr>\n",
       "    <tr>\n",
       "      <th>4</th>\n",
       "      <td>1075358</td>\n",
       "      <td>1311748</td>\n",
       "      <td>3000.0</td>\n",
       "      <td>3000.0</td>\n",
       "      <td>3000.0</td>\n",
       "      <td>1</td>\n",
       "      <td>12.69</td>\n",
       "      <td>67.79</td>\n",
       "      <td>B</td>\n",
       "      <td>B5</td>\n",
       "      <td>...</td>\n",
       "      <td>NaN</td>\n",
       "      <td>NaN</td>\n",
       "      <td>NaN</td>\n",
       "      <td>NaN</td>\n",
       "      <td>NaN</td>\n",
       "      <td>NaN</td>\n",
       "      <td>NaN</td>\n",
       "      <td>NaN</td>\n",
       "      <td>NaN</td>\n",
       "      <td>NaN</td>\n",
       "    </tr>\n",
       "  </tbody>\n",
       "</table>\n",
       "<p>5 rows × 74 columns</p>\n",
       "</div>"
      ],
      "text/plain": [
       "        id  member_id  loan_amnt  funded_amnt  funded_amnt_inv  term  \\\n",
       "0  1077501    1296599     5000.0       5000.0           4975.0     0   \n",
       "1  1077430    1314167     2500.0       2500.0           2500.0     1   \n",
       "2  1077175    1313524     2400.0       2400.0           2400.0     0   \n",
       "3  1076863    1277178    10000.0      10000.0          10000.0     0   \n",
       "4  1075358    1311748     3000.0       3000.0           3000.0     1   \n",
       "\n",
       "   int_rate  installment grade sub_grade     ...      total_bal_il il_util  \\\n",
       "0     10.65       162.87     B        B2     ...               NaN     NaN   \n",
       "1     15.27        59.83     C        C4     ...               NaN     NaN   \n",
       "2     15.96        84.33     C        C5     ...               NaN     NaN   \n",
       "3     13.49       339.31     C        C1     ...               NaN     NaN   \n",
       "4     12.69        67.79     B        B5     ...               NaN     NaN   \n",
       "\n",
       "  open_rv_12m  open_rv_24m max_bal_bc all_util total_rev_hi_lim  inq_fi  \\\n",
       "0         NaN          NaN        NaN      NaN              NaN     NaN   \n",
       "1         NaN          NaN        NaN      NaN              NaN     NaN   \n",
       "2         NaN          NaN        NaN      NaN              NaN     NaN   \n",
       "3         NaN          NaN        NaN      NaN              NaN     NaN   \n",
       "4         NaN          NaN        NaN      NaN              NaN     NaN   \n",
       "\n",
       "  total_cu_tl inq_last_12m  \n",
       "0         NaN          NaN  \n",
       "1         NaN          NaN  \n",
       "2         NaN          NaN  \n",
       "3         NaN          NaN  \n",
       "4         NaN          NaN  \n",
       "\n",
       "[5 rows x 74 columns]"
      ]
     },
     "execution_count": 65,
     "metadata": {},
     "output_type": "execute_result"
    }
   ],
   "source": [
    "df.head()"
   ]
  },
  {
   "cell_type": "code",
   "execution_count": 66,
   "metadata": {},
   "outputs": [
    {
     "data": {
      "text/plain": [
       "(887379, 74)"
      ]
     },
     "execution_count": 66,
     "metadata": {},
     "output_type": "execute_result"
    }
   ],
   "source": [
    "#Checking the dimensions\n",
    "df.shape"
   ]
  },
  {
   "cell_type": "code",
   "execution_count": 67,
   "metadata": {},
   "outputs": [
    {
     "data": {
      "text/plain": [
       "Index(['id', 'member_id', 'loan_amnt', 'funded_amnt', 'funded_amnt_inv',\n",
       "       'term', 'int_rate', 'installment', 'grade', 'sub_grade', 'emp_title',\n",
       "       'emp_length', 'home_ownership', 'annual_inc', 'verification_status',\n",
       "       'issue_d', 'loan_status', 'pymnt_plan', 'url', 'desc', 'purpose',\n",
       "       'title', 'zip_code', 'addr_state', 'dti', 'delinq_2yrs',\n",
       "       'earliest_cr_line', 'inq_last_6mths', 'mths_since_last_delinq',\n",
       "       'mths_since_last_record', 'open_acc', 'pub_rec', 'revol_bal',\n",
       "       'revol_util', 'total_acc', 'initial_list_status', 'out_prncp',\n",
       "       'out_prncp_inv', 'total_pymnt', 'total_pymnt_inv', 'total_rec_prncp',\n",
       "       'total_rec_int', 'total_rec_late_fee', 'recoveries',\n",
       "       'collection_recovery_fee', 'last_pymnt_d', 'last_pymnt_amnt',\n",
       "       'next_pymnt_d', 'last_credit_pull_d', 'collections_12_mths_ex_med',\n",
       "       'mths_since_last_major_derog', 'policy_code', 'application_type',\n",
       "       'annual_inc_joint', 'dti_joint', 'verification_status_joint',\n",
       "       'acc_now_delinq', 'tot_coll_amt', 'tot_cur_bal', 'open_acc_6m',\n",
       "       'open_il_6m', 'open_il_12m', 'open_il_24m', 'mths_since_rcnt_il',\n",
       "       'total_bal_il', 'il_util', 'open_rv_12m', 'open_rv_24m', 'max_bal_bc',\n",
       "       'all_util', 'total_rev_hi_lim', 'inq_fi', 'total_cu_tl',\n",
       "       'inq_last_12m'],\n",
       "      dtype='object')"
      ]
     },
     "execution_count": 67,
     "metadata": {},
     "output_type": "execute_result"
    }
   ],
   "source": [
    "df.columns"
   ]
  },
  {
   "cell_type": "markdown",
   "metadata": {},
   "source": [
    "## Understanding the data\n",
    "\n",
    "Lets check the description of the data provided on the kernal"
   ]
  },
  {
   "cell_type": "code",
   "execution_count": 68,
   "metadata": {},
   "outputs": [],
   "source": [
    "df_description = pd.read_excel(\"C://Users/Saurabh/Desktop/Home Work/IDS Assignments/data/Dataset/LCDataDictionary.xlsx\").dropna()"
   ]
  },
  {
   "cell_type": "code",
   "execution_count": 69,
   "metadata": {},
   "outputs": [
    {
     "data": {
      "text/html": [
       "<style  type=\"text/css\" >\n",
       "    #T_6ba8be34_fa4d_11e8_8db5_28c63fc57d3erow0_col1 {\n",
       "            width:  1000px;\n",
       "        }    #T_6ba8be34_fa4d_11e8_8db5_28c63fc57d3erow1_col1 {\n",
       "            width:  1000px;\n",
       "        }    #T_6ba8be34_fa4d_11e8_8db5_28c63fc57d3erow2_col1 {\n",
       "            width:  1000px;\n",
       "        }    #T_6ba8be34_fa4d_11e8_8db5_28c63fc57d3erow3_col1 {\n",
       "            width:  1000px;\n",
       "        }    #T_6ba8be34_fa4d_11e8_8db5_28c63fc57d3erow4_col1 {\n",
       "            width:  1000px;\n",
       "        }    #T_6ba8be34_fa4d_11e8_8db5_28c63fc57d3erow5_col1 {\n",
       "            width:  1000px;\n",
       "        }    #T_6ba8be34_fa4d_11e8_8db5_28c63fc57d3erow6_col1 {\n",
       "            width:  1000px;\n",
       "        }    #T_6ba8be34_fa4d_11e8_8db5_28c63fc57d3erow7_col1 {\n",
       "            width:  1000px;\n",
       "        }    #T_6ba8be34_fa4d_11e8_8db5_28c63fc57d3erow8_col1 {\n",
       "            width:  1000px;\n",
       "        }    #T_6ba8be34_fa4d_11e8_8db5_28c63fc57d3erow9_col1 {\n",
       "            width:  1000px;\n",
       "        }    #T_6ba8be34_fa4d_11e8_8db5_28c63fc57d3erow10_col1 {\n",
       "            width:  1000px;\n",
       "        }    #T_6ba8be34_fa4d_11e8_8db5_28c63fc57d3erow11_col1 {\n",
       "            width:  1000px;\n",
       "        }    #T_6ba8be34_fa4d_11e8_8db5_28c63fc57d3erow12_col1 {\n",
       "            width:  1000px;\n",
       "        }    #T_6ba8be34_fa4d_11e8_8db5_28c63fc57d3erow13_col1 {\n",
       "            width:  1000px;\n",
       "        }    #T_6ba8be34_fa4d_11e8_8db5_28c63fc57d3erow14_col1 {\n",
       "            width:  1000px;\n",
       "        }    #T_6ba8be34_fa4d_11e8_8db5_28c63fc57d3erow15_col1 {\n",
       "            width:  1000px;\n",
       "        }    #T_6ba8be34_fa4d_11e8_8db5_28c63fc57d3erow16_col1 {\n",
       "            width:  1000px;\n",
       "        }    #T_6ba8be34_fa4d_11e8_8db5_28c63fc57d3erow17_col1 {\n",
       "            width:  1000px;\n",
       "        }    #T_6ba8be34_fa4d_11e8_8db5_28c63fc57d3erow18_col1 {\n",
       "            width:  1000px;\n",
       "        }    #T_6ba8be34_fa4d_11e8_8db5_28c63fc57d3erow19_col1 {\n",
       "            width:  1000px;\n",
       "        }    #T_6ba8be34_fa4d_11e8_8db5_28c63fc57d3erow20_col1 {\n",
       "            width:  1000px;\n",
       "        }    #T_6ba8be34_fa4d_11e8_8db5_28c63fc57d3erow21_col1 {\n",
       "            width:  1000px;\n",
       "        }    #T_6ba8be34_fa4d_11e8_8db5_28c63fc57d3erow22_col1 {\n",
       "            width:  1000px;\n",
       "        }    #T_6ba8be34_fa4d_11e8_8db5_28c63fc57d3erow23_col1 {\n",
       "            width:  1000px;\n",
       "        }    #T_6ba8be34_fa4d_11e8_8db5_28c63fc57d3erow24_col1 {\n",
       "            width:  1000px;\n",
       "        }    #T_6ba8be34_fa4d_11e8_8db5_28c63fc57d3erow25_col1 {\n",
       "            width:  1000px;\n",
       "        }    #T_6ba8be34_fa4d_11e8_8db5_28c63fc57d3erow26_col1 {\n",
       "            width:  1000px;\n",
       "        }    #T_6ba8be34_fa4d_11e8_8db5_28c63fc57d3erow27_col1 {\n",
       "            width:  1000px;\n",
       "        }    #T_6ba8be34_fa4d_11e8_8db5_28c63fc57d3erow28_col1 {\n",
       "            width:  1000px;\n",
       "        }    #T_6ba8be34_fa4d_11e8_8db5_28c63fc57d3erow29_col1 {\n",
       "            width:  1000px;\n",
       "        }    #T_6ba8be34_fa4d_11e8_8db5_28c63fc57d3erow30_col1 {\n",
       "            width:  1000px;\n",
       "        }    #T_6ba8be34_fa4d_11e8_8db5_28c63fc57d3erow31_col1 {\n",
       "            width:  1000px;\n",
       "        }    #T_6ba8be34_fa4d_11e8_8db5_28c63fc57d3erow32_col1 {\n",
       "            width:  1000px;\n",
       "        }    #T_6ba8be34_fa4d_11e8_8db5_28c63fc57d3erow33_col1 {\n",
       "            width:  1000px;\n",
       "        }    #T_6ba8be34_fa4d_11e8_8db5_28c63fc57d3erow34_col1 {\n",
       "            width:  1000px;\n",
       "        }    #T_6ba8be34_fa4d_11e8_8db5_28c63fc57d3erow35_col1 {\n",
       "            width:  1000px;\n",
       "        }    #T_6ba8be34_fa4d_11e8_8db5_28c63fc57d3erow36_col1 {\n",
       "            width:  1000px;\n",
       "        }    #T_6ba8be34_fa4d_11e8_8db5_28c63fc57d3erow37_col1 {\n",
       "            width:  1000px;\n",
       "        }    #T_6ba8be34_fa4d_11e8_8db5_28c63fc57d3erow38_col1 {\n",
       "            width:  1000px;\n",
       "        }    #T_6ba8be34_fa4d_11e8_8db5_28c63fc57d3erow39_col1 {\n",
       "            width:  1000px;\n",
       "        }    #T_6ba8be34_fa4d_11e8_8db5_28c63fc57d3erow40_col1 {\n",
       "            width:  1000px;\n",
       "        }    #T_6ba8be34_fa4d_11e8_8db5_28c63fc57d3erow41_col1 {\n",
       "            width:  1000px;\n",
       "        }    #T_6ba8be34_fa4d_11e8_8db5_28c63fc57d3erow42_col1 {\n",
       "            width:  1000px;\n",
       "        }    #T_6ba8be34_fa4d_11e8_8db5_28c63fc57d3erow43_col1 {\n",
       "            width:  1000px;\n",
       "        }    #T_6ba8be34_fa4d_11e8_8db5_28c63fc57d3erow44_col1 {\n",
       "            width:  1000px;\n",
       "        }    #T_6ba8be34_fa4d_11e8_8db5_28c63fc57d3erow45_col1 {\n",
       "            width:  1000px;\n",
       "        }    #T_6ba8be34_fa4d_11e8_8db5_28c63fc57d3erow46_col1 {\n",
       "            width:  1000px;\n",
       "        }    #T_6ba8be34_fa4d_11e8_8db5_28c63fc57d3erow47_col1 {\n",
       "            width:  1000px;\n",
       "        }    #T_6ba8be34_fa4d_11e8_8db5_28c63fc57d3erow48_col1 {\n",
       "            width:  1000px;\n",
       "        }    #T_6ba8be34_fa4d_11e8_8db5_28c63fc57d3erow49_col1 {\n",
       "            width:  1000px;\n",
       "        }    #T_6ba8be34_fa4d_11e8_8db5_28c63fc57d3erow50_col1 {\n",
       "            width:  1000px;\n",
       "        }    #T_6ba8be34_fa4d_11e8_8db5_28c63fc57d3erow51_col1 {\n",
       "            width:  1000px;\n",
       "        }    #T_6ba8be34_fa4d_11e8_8db5_28c63fc57d3erow52_col1 {\n",
       "            width:  1000px;\n",
       "        }    #T_6ba8be34_fa4d_11e8_8db5_28c63fc57d3erow53_col1 {\n",
       "            width:  1000px;\n",
       "        }    #T_6ba8be34_fa4d_11e8_8db5_28c63fc57d3erow54_col1 {\n",
       "            width:  1000px;\n",
       "        }    #T_6ba8be34_fa4d_11e8_8db5_28c63fc57d3erow55_col1 {\n",
       "            width:  1000px;\n",
       "        }    #T_6ba8be34_fa4d_11e8_8db5_28c63fc57d3erow56_col1 {\n",
       "            width:  1000px;\n",
       "        }    #T_6ba8be34_fa4d_11e8_8db5_28c63fc57d3erow57_col1 {\n",
       "            width:  1000px;\n",
       "        }    #T_6ba8be34_fa4d_11e8_8db5_28c63fc57d3erow58_col1 {\n",
       "            width:  1000px;\n",
       "        }    #T_6ba8be34_fa4d_11e8_8db5_28c63fc57d3erow59_col1 {\n",
       "            width:  1000px;\n",
       "        }    #T_6ba8be34_fa4d_11e8_8db5_28c63fc57d3erow60_col1 {\n",
       "            width:  1000px;\n",
       "        }    #T_6ba8be34_fa4d_11e8_8db5_28c63fc57d3erow61_col1 {\n",
       "            width:  1000px;\n",
       "        }    #T_6ba8be34_fa4d_11e8_8db5_28c63fc57d3erow62_col1 {\n",
       "            width:  1000px;\n",
       "        }    #T_6ba8be34_fa4d_11e8_8db5_28c63fc57d3erow63_col1 {\n",
       "            width:  1000px;\n",
       "        }    #T_6ba8be34_fa4d_11e8_8db5_28c63fc57d3erow64_col1 {\n",
       "            width:  1000px;\n",
       "        }    #T_6ba8be34_fa4d_11e8_8db5_28c63fc57d3erow65_col1 {\n",
       "            width:  1000px;\n",
       "        }    #T_6ba8be34_fa4d_11e8_8db5_28c63fc57d3erow66_col1 {\n",
       "            width:  1000px;\n",
       "        }    #T_6ba8be34_fa4d_11e8_8db5_28c63fc57d3erow67_col1 {\n",
       "            width:  1000px;\n",
       "        }    #T_6ba8be34_fa4d_11e8_8db5_28c63fc57d3erow68_col1 {\n",
       "            width:  1000px;\n",
       "        }    #T_6ba8be34_fa4d_11e8_8db5_28c63fc57d3erow69_col1 {\n",
       "            width:  1000px;\n",
       "        }    #T_6ba8be34_fa4d_11e8_8db5_28c63fc57d3erow70_col1 {\n",
       "            width:  1000px;\n",
       "        }    #T_6ba8be34_fa4d_11e8_8db5_28c63fc57d3erow71_col1 {\n",
       "            width:  1000px;\n",
       "        }    #T_6ba8be34_fa4d_11e8_8db5_28c63fc57d3erow72_col1 {\n",
       "            width:  1000px;\n",
       "        }    #T_6ba8be34_fa4d_11e8_8db5_28c63fc57d3erow73_col1 {\n",
       "            width:  1000px;\n",
       "        }    #T_6ba8be34_fa4d_11e8_8db5_28c63fc57d3erow74_col1 {\n",
       "            width:  1000px;\n",
       "        }    #T_6ba8be34_fa4d_11e8_8db5_28c63fc57d3erow75_col1 {\n",
       "            width:  1000px;\n",
       "        }    #T_6ba8be34_fa4d_11e8_8db5_28c63fc57d3erow76_col1 {\n",
       "            width:  1000px;\n",
       "        }    #T_6ba8be34_fa4d_11e8_8db5_28c63fc57d3erow77_col1 {\n",
       "            width:  1000px;\n",
       "        }</style>  \n",
       "<table id=\"T_6ba8be34_fa4d_11e8_8db5_28c63fc57d3e\" > \n",
       "<thead>    <tr> \n",
       "        <th class=\"blank level0\" ></th> \n",
       "        <th class=\"col_heading level0 col0\" >LoanStatNew</th> \n",
       "        <th class=\"col_heading level0 col1\" >Description</th> \n",
       "    </tr></thead> \n",
       "<tbody>    <tr> \n",
       "        <th id=\"T_6ba8be34_fa4d_11e8_8db5_28c63fc57d3elevel0_row0\" class=\"row_heading level0 row0\" >0</th> \n",
       "        <td id=\"T_6ba8be34_fa4d_11e8_8db5_28c63fc57d3erow0_col0\" class=\"data row0 col0\" >addr_state</td> \n",
       "        <td id=\"T_6ba8be34_fa4d_11e8_8db5_28c63fc57d3erow0_col1\" class=\"data row0 col1\" >The state provided by the borrower in the loan application</td> \n",
       "    </tr>    <tr> \n",
       "        <th id=\"T_6ba8be34_fa4d_11e8_8db5_28c63fc57d3elevel0_row1\" class=\"row_heading level0 row1\" >1</th> \n",
       "        <td id=\"T_6ba8be34_fa4d_11e8_8db5_28c63fc57d3erow1_col0\" class=\"data row1 col0\" >annual_inc</td> \n",
       "        <td id=\"T_6ba8be34_fa4d_11e8_8db5_28c63fc57d3erow1_col1\" class=\"data row1 col1\" >The self-reported annual income provided by the borrower during registration.</td> \n",
       "    </tr>    <tr> \n",
       "        <th id=\"T_6ba8be34_fa4d_11e8_8db5_28c63fc57d3elevel0_row2\" class=\"row_heading level0 row2\" >2</th> \n",
       "        <td id=\"T_6ba8be34_fa4d_11e8_8db5_28c63fc57d3erow2_col0\" class=\"data row2 col0\" >annual_inc_joint</td> \n",
       "        <td id=\"T_6ba8be34_fa4d_11e8_8db5_28c63fc57d3erow2_col1\" class=\"data row2 col1\" >The combined self-reported annual income provided by the co-borrowers during registration</td> \n",
       "    </tr>    <tr> \n",
       "        <th id=\"T_6ba8be34_fa4d_11e8_8db5_28c63fc57d3elevel0_row3\" class=\"row_heading level0 row3\" >3</th> \n",
       "        <td id=\"T_6ba8be34_fa4d_11e8_8db5_28c63fc57d3erow3_col0\" class=\"data row3 col0\" >application_type</td> \n",
       "        <td id=\"T_6ba8be34_fa4d_11e8_8db5_28c63fc57d3erow3_col1\" class=\"data row3 col1\" >Indicates whether the loan is an individual application or a joint application with two co-borrowers</td> \n",
       "    </tr>    <tr> \n",
       "        <th id=\"T_6ba8be34_fa4d_11e8_8db5_28c63fc57d3elevel0_row4\" class=\"row_heading level0 row4\" >4</th> \n",
       "        <td id=\"T_6ba8be34_fa4d_11e8_8db5_28c63fc57d3erow4_col0\" class=\"data row4 col0\" >collection_recovery_fee</td> \n",
       "        <td id=\"T_6ba8be34_fa4d_11e8_8db5_28c63fc57d3erow4_col1\" class=\"data row4 col1\" >post charge off collection fee</td> \n",
       "    </tr>    <tr> \n",
       "        <th id=\"T_6ba8be34_fa4d_11e8_8db5_28c63fc57d3elevel0_row5\" class=\"row_heading level0 row5\" >5</th> \n",
       "        <td id=\"T_6ba8be34_fa4d_11e8_8db5_28c63fc57d3erow5_col0\" class=\"data row5 col0\" >collections_12_mths_ex_med</td> \n",
       "        <td id=\"T_6ba8be34_fa4d_11e8_8db5_28c63fc57d3erow5_col1\" class=\"data row5 col1\" >Number of collections in 12 months excluding medical collections</td> \n",
       "    </tr>    <tr> \n",
       "        <th id=\"T_6ba8be34_fa4d_11e8_8db5_28c63fc57d3elevel0_row6\" class=\"row_heading level0 row6\" >6</th> \n",
       "        <td id=\"T_6ba8be34_fa4d_11e8_8db5_28c63fc57d3erow6_col0\" class=\"data row6 col0\" >delinq_2yrs</td> \n",
       "        <td id=\"T_6ba8be34_fa4d_11e8_8db5_28c63fc57d3erow6_col1\" class=\"data row6 col1\" >The number of 30+ days past-due incidences of delinquency in the borrower's credit file for the past 2 years</td> \n",
       "    </tr>    <tr> \n",
       "        <th id=\"T_6ba8be34_fa4d_11e8_8db5_28c63fc57d3elevel0_row7\" class=\"row_heading level0 row7\" >7</th> \n",
       "        <td id=\"T_6ba8be34_fa4d_11e8_8db5_28c63fc57d3erow7_col0\" class=\"data row7 col0\" >desc</td> \n",
       "        <td id=\"T_6ba8be34_fa4d_11e8_8db5_28c63fc57d3erow7_col1\" class=\"data row7 col1\" >Loan description provided by the borrower</td> \n",
       "    </tr>    <tr> \n",
       "        <th id=\"T_6ba8be34_fa4d_11e8_8db5_28c63fc57d3elevel0_row8\" class=\"row_heading level0 row8\" >8</th> \n",
       "        <td id=\"T_6ba8be34_fa4d_11e8_8db5_28c63fc57d3erow8_col0\" class=\"data row8 col0\" >dti</td> \n",
       "        <td id=\"T_6ba8be34_fa4d_11e8_8db5_28c63fc57d3erow8_col1\" class=\"data row8 col1\" >A ratio calculated using the borrower’s total monthly debt payments on the total debt obligations, excluding mortgage and the requested LC loan, divided by the borrower’s self-reported monthly income.</td> \n",
       "    </tr>    <tr> \n",
       "        <th id=\"T_6ba8be34_fa4d_11e8_8db5_28c63fc57d3elevel0_row9\" class=\"row_heading level0 row9\" >9</th> \n",
       "        <td id=\"T_6ba8be34_fa4d_11e8_8db5_28c63fc57d3erow9_col0\" class=\"data row9 col0\" >dti_joint</td> \n",
       "        <td id=\"T_6ba8be34_fa4d_11e8_8db5_28c63fc57d3erow9_col1\" class=\"data row9 col1\" >A ratio calculated using the co-borrowers' total monthly payments on the total debt obligations, excluding mortgages and the requested LC loan, divided by the co-borrowers' combined self-reported monthly income</td> \n",
       "    </tr>    <tr> \n",
       "        <th id=\"T_6ba8be34_fa4d_11e8_8db5_28c63fc57d3elevel0_row10\" class=\"row_heading level0 row10\" >10</th> \n",
       "        <td id=\"T_6ba8be34_fa4d_11e8_8db5_28c63fc57d3erow10_col0\" class=\"data row10 col0\" >earliest_cr_line</td> \n",
       "        <td id=\"T_6ba8be34_fa4d_11e8_8db5_28c63fc57d3erow10_col1\" class=\"data row10 col1\" >The month the borrower's earliest reported credit line was opened</td> \n",
       "    </tr>    <tr> \n",
       "        <th id=\"T_6ba8be34_fa4d_11e8_8db5_28c63fc57d3elevel0_row11\" class=\"row_heading level0 row11\" >11</th> \n",
       "        <td id=\"T_6ba8be34_fa4d_11e8_8db5_28c63fc57d3erow11_col0\" class=\"data row11 col0\" >emp_length</td> \n",
       "        <td id=\"T_6ba8be34_fa4d_11e8_8db5_28c63fc57d3erow11_col1\" class=\"data row11 col1\" >Employment length in years. Possible values are between 0 and 10 where 0 means less than one year and 10 means ten or more years. </td> \n",
       "    </tr>    <tr> \n",
       "        <th id=\"T_6ba8be34_fa4d_11e8_8db5_28c63fc57d3elevel0_row12\" class=\"row_heading level0 row12\" >12</th> \n",
       "        <td id=\"T_6ba8be34_fa4d_11e8_8db5_28c63fc57d3erow12_col0\" class=\"data row12 col0\" >emp_title</td> \n",
       "        <td id=\"T_6ba8be34_fa4d_11e8_8db5_28c63fc57d3erow12_col1\" class=\"data row12 col1\" >The job title supplied by the Borrower when applying for the loan.*</td> \n",
       "    </tr>    <tr> \n",
       "        <th id=\"T_6ba8be34_fa4d_11e8_8db5_28c63fc57d3elevel0_row13\" class=\"row_heading level0 row13\" >13</th> \n",
       "        <td id=\"T_6ba8be34_fa4d_11e8_8db5_28c63fc57d3erow13_col0\" class=\"data row13 col0\" >fico_range_high</td> \n",
       "        <td id=\"T_6ba8be34_fa4d_11e8_8db5_28c63fc57d3erow13_col1\" class=\"data row13 col1\" >The upper boundary range the borrower’s FICO at loan origination belongs to.</td> \n",
       "    </tr>    <tr> \n",
       "        <th id=\"T_6ba8be34_fa4d_11e8_8db5_28c63fc57d3elevel0_row14\" class=\"row_heading level0 row14\" >14</th> \n",
       "        <td id=\"T_6ba8be34_fa4d_11e8_8db5_28c63fc57d3erow14_col0\" class=\"data row14 col0\" >fico_range_low</td> \n",
       "        <td id=\"T_6ba8be34_fa4d_11e8_8db5_28c63fc57d3erow14_col1\" class=\"data row14 col1\" >The lower boundary range the borrower’s FICO at loan origination belongs to.</td> \n",
       "    </tr>    <tr> \n",
       "        <th id=\"T_6ba8be34_fa4d_11e8_8db5_28c63fc57d3elevel0_row15\" class=\"row_heading level0 row15\" >15</th> \n",
       "        <td id=\"T_6ba8be34_fa4d_11e8_8db5_28c63fc57d3erow15_col0\" class=\"data row15 col0\" >funded_amnt</td> \n",
       "        <td id=\"T_6ba8be34_fa4d_11e8_8db5_28c63fc57d3erow15_col1\" class=\"data row15 col1\" >The total amount committed to that loan at that point in time.</td> \n",
       "    </tr>    <tr> \n",
       "        <th id=\"T_6ba8be34_fa4d_11e8_8db5_28c63fc57d3elevel0_row16\" class=\"row_heading level0 row16\" >16</th> \n",
       "        <td id=\"T_6ba8be34_fa4d_11e8_8db5_28c63fc57d3erow16_col0\" class=\"data row16 col0\" >funded_amnt_inv</td> \n",
       "        <td id=\"T_6ba8be34_fa4d_11e8_8db5_28c63fc57d3erow16_col1\" class=\"data row16 col1\" >The total amount committed by investors for that loan at that point in time.</td> \n",
       "    </tr>    <tr> \n",
       "        <th id=\"T_6ba8be34_fa4d_11e8_8db5_28c63fc57d3elevel0_row17\" class=\"row_heading level0 row17\" >17</th> \n",
       "        <td id=\"T_6ba8be34_fa4d_11e8_8db5_28c63fc57d3erow17_col0\" class=\"data row17 col0\" >grade</td> \n",
       "        <td id=\"T_6ba8be34_fa4d_11e8_8db5_28c63fc57d3erow17_col1\" class=\"data row17 col1\" >LC assigned loan grade</td> \n",
       "    </tr>    <tr> \n",
       "        <th id=\"T_6ba8be34_fa4d_11e8_8db5_28c63fc57d3elevel0_row18\" class=\"row_heading level0 row18\" >18</th> \n",
       "        <td id=\"T_6ba8be34_fa4d_11e8_8db5_28c63fc57d3erow18_col0\" class=\"data row18 col0\" >home_ownership</td> \n",
       "        <td id=\"T_6ba8be34_fa4d_11e8_8db5_28c63fc57d3erow18_col1\" class=\"data row18 col1\" >The home ownership status provided by the borrower during registration. Our values are: RENT, OWN, MORTGAGE, OTHER.</td> \n",
       "    </tr>    <tr> \n",
       "        <th id=\"T_6ba8be34_fa4d_11e8_8db5_28c63fc57d3elevel0_row19\" class=\"row_heading level0 row19\" >19</th> \n",
       "        <td id=\"T_6ba8be34_fa4d_11e8_8db5_28c63fc57d3erow19_col0\" class=\"data row19 col0\" >id</td> \n",
       "        <td id=\"T_6ba8be34_fa4d_11e8_8db5_28c63fc57d3erow19_col1\" class=\"data row19 col1\" >A unique LC assigned ID for the loan listing.</td> \n",
       "    </tr>    <tr> \n",
       "        <th id=\"T_6ba8be34_fa4d_11e8_8db5_28c63fc57d3elevel0_row20\" class=\"row_heading level0 row20\" >20</th> \n",
       "        <td id=\"T_6ba8be34_fa4d_11e8_8db5_28c63fc57d3erow20_col0\" class=\"data row20 col0\" >initial_list_status</td> \n",
       "        <td id=\"T_6ba8be34_fa4d_11e8_8db5_28c63fc57d3erow20_col1\" class=\"data row20 col1\" >The initial listing status of the loan. Possible values are – W, F</td> \n",
       "    </tr>    <tr> \n",
       "        <th id=\"T_6ba8be34_fa4d_11e8_8db5_28c63fc57d3elevel0_row21\" class=\"row_heading level0 row21\" >21</th> \n",
       "        <td id=\"T_6ba8be34_fa4d_11e8_8db5_28c63fc57d3erow21_col0\" class=\"data row21 col0\" >inq_last_6mths</td> \n",
       "        <td id=\"T_6ba8be34_fa4d_11e8_8db5_28c63fc57d3erow21_col1\" class=\"data row21 col1\" >The number of inquiries in past 6 months (excluding auto and mortgage inquiries)</td> \n",
       "    </tr>    <tr> \n",
       "        <th id=\"T_6ba8be34_fa4d_11e8_8db5_28c63fc57d3elevel0_row22\" class=\"row_heading level0 row22\" >22</th> \n",
       "        <td id=\"T_6ba8be34_fa4d_11e8_8db5_28c63fc57d3erow22_col0\" class=\"data row22 col0\" >installment</td> \n",
       "        <td id=\"T_6ba8be34_fa4d_11e8_8db5_28c63fc57d3erow22_col1\" class=\"data row22 col1\" >The monthly payment owed by the borrower if the loan originates.</td> \n",
       "    </tr>    <tr> \n",
       "        <th id=\"T_6ba8be34_fa4d_11e8_8db5_28c63fc57d3elevel0_row23\" class=\"row_heading level0 row23\" >23</th> \n",
       "        <td id=\"T_6ba8be34_fa4d_11e8_8db5_28c63fc57d3erow23_col0\" class=\"data row23 col0\" >int_rate</td> \n",
       "        <td id=\"T_6ba8be34_fa4d_11e8_8db5_28c63fc57d3erow23_col1\" class=\"data row23 col1\" >Interest Rate on the loan</td> \n",
       "    </tr>    <tr> \n",
       "        <th id=\"T_6ba8be34_fa4d_11e8_8db5_28c63fc57d3elevel0_row24\" class=\"row_heading level0 row24\" >24</th> \n",
       "        <td id=\"T_6ba8be34_fa4d_11e8_8db5_28c63fc57d3erow24_col0\" class=\"data row24 col0\" >is_inc_v</td> \n",
       "        <td id=\"T_6ba8be34_fa4d_11e8_8db5_28c63fc57d3erow24_col1\" class=\"data row24 col1\" >Indicates if income was verified by LC, not verified, or if the income source was verified</td> \n",
       "    </tr>    <tr> \n",
       "        <th id=\"T_6ba8be34_fa4d_11e8_8db5_28c63fc57d3elevel0_row25\" class=\"row_heading level0 row25\" >25</th> \n",
       "        <td id=\"T_6ba8be34_fa4d_11e8_8db5_28c63fc57d3erow25_col0\" class=\"data row25 col0\" >issue_d</td> \n",
       "        <td id=\"T_6ba8be34_fa4d_11e8_8db5_28c63fc57d3erow25_col1\" class=\"data row25 col1\" >The month which the loan was funded</td> \n",
       "    </tr>    <tr> \n",
       "        <th id=\"T_6ba8be34_fa4d_11e8_8db5_28c63fc57d3elevel0_row26\" class=\"row_heading level0 row26\" >26</th> \n",
       "        <td id=\"T_6ba8be34_fa4d_11e8_8db5_28c63fc57d3erow26_col0\" class=\"data row26 col0\" >last_credit_pull_d</td> \n",
       "        <td id=\"T_6ba8be34_fa4d_11e8_8db5_28c63fc57d3erow26_col1\" class=\"data row26 col1\" >The most recent month LC pulled credit for this loan</td> \n",
       "    </tr>    <tr> \n",
       "        <th id=\"T_6ba8be34_fa4d_11e8_8db5_28c63fc57d3elevel0_row27\" class=\"row_heading level0 row27\" >27</th> \n",
       "        <td id=\"T_6ba8be34_fa4d_11e8_8db5_28c63fc57d3erow27_col0\" class=\"data row27 col0\" >last_fico_range_high</td> \n",
       "        <td id=\"T_6ba8be34_fa4d_11e8_8db5_28c63fc57d3erow27_col1\" class=\"data row27 col1\" >The upper boundary range the borrower’s last FICO pulled belongs to.</td> \n",
       "    </tr>    <tr> \n",
       "        <th id=\"T_6ba8be34_fa4d_11e8_8db5_28c63fc57d3elevel0_row28\" class=\"row_heading level0 row28\" >28</th> \n",
       "        <td id=\"T_6ba8be34_fa4d_11e8_8db5_28c63fc57d3erow28_col0\" class=\"data row28 col0\" >last_fico_range_low</td> \n",
       "        <td id=\"T_6ba8be34_fa4d_11e8_8db5_28c63fc57d3erow28_col1\" class=\"data row28 col1\" >The lower boundary range the borrower’s last FICO pulled belongs to.</td> \n",
       "    </tr>    <tr> \n",
       "        <th id=\"T_6ba8be34_fa4d_11e8_8db5_28c63fc57d3elevel0_row29\" class=\"row_heading level0 row29\" >29</th> \n",
       "        <td id=\"T_6ba8be34_fa4d_11e8_8db5_28c63fc57d3erow29_col0\" class=\"data row29 col0\" >last_pymnt_amnt</td> \n",
       "        <td id=\"T_6ba8be34_fa4d_11e8_8db5_28c63fc57d3erow29_col1\" class=\"data row29 col1\" >Last total payment amount received</td> \n",
       "    </tr>    <tr> \n",
       "        <th id=\"T_6ba8be34_fa4d_11e8_8db5_28c63fc57d3elevel0_row30\" class=\"row_heading level0 row30\" >30</th> \n",
       "        <td id=\"T_6ba8be34_fa4d_11e8_8db5_28c63fc57d3erow30_col0\" class=\"data row30 col0\" >last_pymnt_d</td> \n",
       "        <td id=\"T_6ba8be34_fa4d_11e8_8db5_28c63fc57d3erow30_col1\" class=\"data row30 col1\" >Last month payment was received</td> \n",
       "    </tr>    <tr> \n",
       "        <th id=\"T_6ba8be34_fa4d_11e8_8db5_28c63fc57d3elevel0_row31\" class=\"row_heading level0 row31\" >31</th> \n",
       "        <td id=\"T_6ba8be34_fa4d_11e8_8db5_28c63fc57d3erow31_col0\" class=\"data row31 col0\" >loan_amnt</td> \n",
       "        <td id=\"T_6ba8be34_fa4d_11e8_8db5_28c63fc57d3erow31_col1\" class=\"data row31 col1\" >The listed amount of the loan applied for by the borrower. If at some point in time, the credit department reduces the loan amount, then it will be reflected in this value.</td> \n",
       "    </tr>    <tr> \n",
       "        <th id=\"T_6ba8be34_fa4d_11e8_8db5_28c63fc57d3elevel0_row32\" class=\"row_heading level0 row32\" >32</th> \n",
       "        <td id=\"T_6ba8be34_fa4d_11e8_8db5_28c63fc57d3erow32_col0\" class=\"data row32 col0\" >loan_status</td> \n",
       "        <td id=\"T_6ba8be34_fa4d_11e8_8db5_28c63fc57d3erow32_col1\" class=\"data row32 col1\" >Current status of the loan</td> \n",
       "    </tr>    <tr> \n",
       "        <th id=\"T_6ba8be34_fa4d_11e8_8db5_28c63fc57d3elevel0_row33\" class=\"row_heading level0 row33\" >33</th> \n",
       "        <td id=\"T_6ba8be34_fa4d_11e8_8db5_28c63fc57d3erow33_col0\" class=\"data row33 col0\" >member_id</td> \n",
       "        <td id=\"T_6ba8be34_fa4d_11e8_8db5_28c63fc57d3erow33_col1\" class=\"data row33 col1\" >A unique LC assigned Id for the borrower member.</td> \n",
       "    </tr>    <tr> \n",
       "        <th id=\"T_6ba8be34_fa4d_11e8_8db5_28c63fc57d3elevel0_row34\" class=\"row_heading level0 row34\" >34</th> \n",
       "        <td id=\"T_6ba8be34_fa4d_11e8_8db5_28c63fc57d3erow34_col0\" class=\"data row34 col0\" >mths_since_last_delinq</td> \n",
       "        <td id=\"T_6ba8be34_fa4d_11e8_8db5_28c63fc57d3erow34_col1\" class=\"data row34 col1\" >The number of months since the borrower's last delinquency.</td> \n",
       "    </tr>    <tr> \n",
       "        <th id=\"T_6ba8be34_fa4d_11e8_8db5_28c63fc57d3elevel0_row35\" class=\"row_heading level0 row35\" >35</th> \n",
       "        <td id=\"T_6ba8be34_fa4d_11e8_8db5_28c63fc57d3erow35_col0\" class=\"data row35 col0\" >mths_since_last_major_derog</td> \n",
       "        <td id=\"T_6ba8be34_fa4d_11e8_8db5_28c63fc57d3erow35_col1\" class=\"data row35 col1\" >Months since most recent 90-day or worse rating</td> \n",
       "    </tr>    <tr> \n",
       "        <th id=\"T_6ba8be34_fa4d_11e8_8db5_28c63fc57d3elevel0_row36\" class=\"row_heading level0 row36\" >36</th> \n",
       "        <td id=\"T_6ba8be34_fa4d_11e8_8db5_28c63fc57d3erow36_col0\" class=\"data row36 col0\" >mths_since_last_record</td> \n",
       "        <td id=\"T_6ba8be34_fa4d_11e8_8db5_28c63fc57d3erow36_col1\" class=\"data row36 col1\" >The number of months since the last public record.</td> \n",
       "    </tr>    <tr> \n",
       "        <th id=\"T_6ba8be34_fa4d_11e8_8db5_28c63fc57d3elevel0_row37\" class=\"row_heading level0 row37\" >37</th> \n",
       "        <td id=\"T_6ba8be34_fa4d_11e8_8db5_28c63fc57d3erow37_col0\" class=\"data row37 col0\" >next_pymnt_d</td> \n",
       "        <td id=\"T_6ba8be34_fa4d_11e8_8db5_28c63fc57d3erow37_col1\" class=\"data row37 col1\" >Next scheduled payment date</td> \n",
       "    </tr>    <tr> \n",
       "        <th id=\"T_6ba8be34_fa4d_11e8_8db5_28c63fc57d3elevel0_row38\" class=\"row_heading level0 row38\" >38</th> \n",
       "        <td id=\"T_6ba8be34_fa4d_11e8_8db5_28c63fc57d3erow38_col0\" class=\"data row38 col0\" >open_acc</td> \n",
       "        <td id=\"T_6ba8be34_fa4d_11e8_8db5_28c63fc57d3erow38_col1\" class=\"data row38 col1\" >The number of open credit lines in the borrower's credit file.</td> \n",
       "    </tr>    <tr> \n",
       "        <th id=\"T_6ba8be34_fa4d_11e8_8db5_28c63fc57d3elevel0_row39\" class=\"row_heading level0 row39\" >39</th> \n",
       "        <td id=\"T_6ba8be34_fa4d_11e8_8db5_28c63fc57d3erow39_col0\" class=\"data row39 col0\" >out_prncp</td> \n",
       "        <td id=\"T_6ba8be34_fa4d_11e8_8db5_28c63fc57d3erow39_col1\" class=\"data row39 col1\" >Remaining outstanding principal for total amount funded</td> \n",
       "    </tr>    <tr> \n",
       "        <th id=\"T_6ba8be34_fa4d_11e8_8db5_28c63fc57d3elevel0_row40\" class=\"row_heading level0 row40\" >40</th> \n",
       "        <td id=\"T_6ba8be34_fa4d_11e8_8db5_28c63fc57d3erow40_col0\" class=\"data row40 col0\" >out_prncp_inv</td> \n",
       "        <td id=\"T_6ba8be34_fa4d_11e8_8db5_28c63fc57d3erow40_col1\" class=\"data row40 col1\" >Remaining outstanding principal for portion of total amount funded by investors</td> \n",
       "    </tr>    <tr> \n",
       "        <th id=\"T_6ba8be34_fa4d_11e8_8db5_28c63fc57d3elevel0_row41\" class=\"row_heading level0 row41\" >41</th> \n",
       "        <td id=\"T_6ba8be34_fa4d_11e8_8db5_28c63fc57d3erow41_col0\" class=\"data row41 col0\" >policy_code</td> \n",
       "        <td id=\"T_6ba8be34_fa4d_11e8_8db5_28c63fc57d3erow41_col1\" class=\"data row41 col1\" >publicly available policy_code=1\n",
       "new products not publicly available policy_code=2</td> \n",
       "    </tr>    <tr> \n",
       "        <th id=\"T_6ba8be34_fa4d_11e8_8db5_28c63fc57d3elevel0_row42\" class=\"row_heading level0 row42\" >42</th> \n",
       "        <td id=\"T_6ba8be34_fa4d_11e8_8db5_28c63fc57d3erow42_col0\" class=\"data row42 col0\" >pub_rec</td> \n",
       "        <td id=\"T_6ba8be34_fa4d_11e8_8db5_28c63fc57d3erow42_col1\" class=\"data row42 col1\" >Number of derogatory public records</td> \n",
       "    </tr>    <tr> \n",
       "        <th id=\"T_6ba8be34_fa4d_11e8_8db5_28c63fc57d3elevel0_row43\" class=\"row_heading level0 row43\" >43</th> \n",
       "        <td id=\"T_6ba8be34_fa4d_11e8_8db5_28c63fc57d3erow43_col0\" class=\"data row43 col0\" >purpose</td> \n",
       "        <td id=\"T_6ba8be34_fa4d_11e8_8db5_28c63fc57d3erow43_col1\" class=\"data row43 col1\" >A category provided by the borrower for the loan request. </td> \n",
       "    </tr>    <tr> \n",
       "        <th id=\"T_6ba8be34_fa4d_11e8_8db5_28c63fc57d3elevel0_row44\" class=\"row_heading level0 row44\" >44</th> \n",
       "        <td id=\"T_6ba8be34_fa4d_11e8_8db5_28c63fc57d3erow44_col0\" class=\"data row44 col0\" >pymnt_plan</td> \n",
       "        <td id=\"T_6ba8be34_fa4d_11e8_8db5_28c63fc57d3erow44_col1\" class=\"data row44 col1\" >Indicates if a payment plan has been put in place for the loan</td> \n",
       "    </tr>    <tr> \n",
       "        <th id=\"T_6ba8be34_fa4d_11e8_8db5_28c63fc57d3elevel0_row45\" class=\"row_heading level0 row45\" >45</th> \n",
       "        <td id=\"T_6ba8be34_fa4d_11e8_8db5_28c63fc57d3erow45_col0\" class=\"data row45 col0\" >recoveries</td> \n",
       "        <td id=\"T_6ba8be34_fa4d_11e8_8db5_28c63fc57d3erow45_col1\" class=\"data row45 col1\" >post charge off gross recovery</td> \n",
       "    </tr>    <tr> \n",
       "        <th id=\"T_6ba8be34_fa4d_11e8_8db5_28c63fc57d3elevel0_row46\" class=\"row_heading level0 row46\" >46</th> \n",
       "        <td id=\"T_6ba8be34_fa4d_11e8_8db5_28c63fc57d3erow46_col0\" class=\"data row46 col0\" >revol_bal</td> \n",
       "        <td id=\"T_6ba8be34_fa4d_11e8_8db5_28c63fc57d3erow46_col1\" class=\"data row46 col1\" >Total credit revolving balance</td> \n",
       "    </tr>    <tr> \n",
       "        <th id=\"T_6ba8be34_fa4d_11e8_8db5_28c63fc57d3elevel0_row47\" class=\"row_heading level0 row47\" >47</th> \n",
       "        <td id=\"T_6ba8be34_fa4d_11e8_8db5_28c63fc57d3erow47_col0\" class=\"data row47 col0\" >revol_util</td> \n",
       "        <td id=\"T_6ba8be34_fa4d_11e8_8db5_28c63fc57d3erow47_col1\" class=\"data row47 col1\" >Revolving line utilization rate, or the amount of credit the borrower is using relative to all available revolving credit.</td> \n",
       "    </tr>    <tr> \n",
       "        <th id=\"T_6ba8be34_fa4d_11e8_8db5_28c63fc57d3elevel0_row48\" class=\"row_heading level0 row48\" >48</th> \n",
       "        <td id=\"T_6ba8be34_fa4d_11e8_8db5_28c63fc57d3erow48_col0\" class=\"data row48 col0\" >sub_grade</td> \n",
       "        <td id=\"T_6ba8be34_fa4d_11e8_8db5_28c63fc57d3erow48_col1\" class=\"data row48 col1\" >LC assigned loan subgrade</td> \n",
       "    </tr>    <tr> \n",
       "        <th id=\"T_6ba8be34_fa4d_11e8_8db5_28c63fc57d3elevel0_row49\" class=\"row_heading level0 row49\" >49</th> \n",
       "        <td id=\"T_6ba8be34_fa4d_11e8_8db5_28c63fc57d3erow49_col0\" class=\"data row49 col0\" >term</td> \n",
       "        <td id=\"T_6ba8be34_fa4d_11e8_8db5_28c63fc57d3erow49_col1\" class=\"data row49 col1\" >The number of payments on the loan. Values are in months and can be either 36 or 60.</td> \n",
       "    </tr>    <tr> \n",
       "        <th id=\"T_6ba8be34_fa4d_11e8_8db5_28c63fc57d3elevel0_row50\" class=\"row_heading level0 row50\" >50</th> \n",
       "        <td id=\"T_6ba8be34_fa4d_11e8_8db5_28c63fc57d3erow50_col0\" class=\"data row50 col0\" >title</td> \n",
       "        <td id=\"T_6ba8be34_fa4d_11e8_8db5_28c63fc57d3erow50_col1\" class=\"data row50 col1\" >The loan title provided by the borrower</td> \n",
       "    </tr>    <tr> \n",
       "        <th id=\"T_6ba8be34_fa4d_11e8_8db5_28c63fc57d3elevel0_row51\" class=\"row_heading level0 row51\" >51</th> \n",
       "        <td id=\"T_6ba8be34_fa4d_11e8_8db5_28c63fc57d3erow51_col0\" class=\"data row51 col0\" >total_acc</td> \n",
       "        <td id=\"T_6ba8be34_fa4d_11e8_8db5_28c63fc57d3erow51_col1\" class=\"data row51 col1\" >The total number of credit lines currently in the borrower's credit file</td> \n",
       "    </tr>    <tr> \n",
       "        <th id=\"T_6ba8be34_fa4d_11e8_8db5_28c63fc57d3elevel0_row52\" class=\"row_heading level0 row52\" >52</th> \n",
       "        <td id=\"T_6ba8be34_fa4d_11e8_8db5_28c63fc57d3erow52_col0\" class=\"data row52 col0\" >total_pymnt</td> \n",
       "        <td id=\"T_6ba8be34_fa4d_11e8_8db5_28c63fc57d3erow52_col1\" class=\"data row52 col1\" >Payments received to date for total amount funded</td> \n",
       "    </tr>    <tr> \n",
       "        <th id=\"T_6ba8be34_fa4d_11e8_8db5_28c63fc57d3elevel0_row53\" class=\"row_heading level0 row53\" >53</th> \n",
       "        <td id=\"T_6ba8be34_fa4d_11e8_8db5_28c63fc57d3erow53_col0\" class=\"data row53 col0\" >total_pymnt_inv</td> \n",
       "        <td id=\"T_6ba8be34_fa4d_11e8_8db5_28c63fc57d3erow53_col1\" class=\"data row53 col1\" >Payments received to date for portion of total amount funded by investors</td> \n",
       "    </tr>    <tr> \n",
       "        <th id=\"T_6ba8be34_fa4d_11e8_8db5_28c63fc57d3elevel0_row54\" class=\"row_heading level0 row54\" >54</th> \n",
       "        <td id=\"T_6ba8be34_fa4d_11e8_8db5_28c63fc57d3erow54_col0\" class=\"data row54 col0\" >total_rec_int</td> \n",
       "        <td id=\"T_6ba8be34_fa4d_11e8_8db5_28c63fc57d3erow54_col1\" class=\"data row54 col1\" >Interest received to date</td> \n",
       "    </tr>    <tr> \n",
       "        <th id=\"T_6ba8be34_fa4d_11e8_8db5_28c63fc57d3elevel0_row55\" class=\"row_heading level0 row55\" >55</th> \n",
       "        <td id=\"T_6ba8be34_fa4d_11e8_8db5_28c63fc57d3erow55_col0\" class=\"data row55 col0\" >total_rec_late_fee</td> \n",
       "        <td id=\"T_6ba8be34_fa4d_11e8_8db5_28c63fc57d3erow55_col1\" class=\"data row55 col1\" >Late fees received to date</td> \n",
       "    </tr>    <tr> \n",
       "        <th id=\"T_6ba8be34_fa4d_11e8_8db5_28c63fc57d3elevel0_row56\" class=\"row_heading level0 row56\" >56</th> \n",
       "        <td id=\"T_6ba8be34_fa4d_11e8_8db5_28c63fc57d3erow56_col0\" class=\"data row56 col0\" >total_rec_prncp</td> \n",
       "        <td id=\"T_6ba8be34_fa4d_11e8_8db5_28c63fc57d3erow56_col1\" class=\"data row56 col1\" >Principal received to date</td> \n",
       "    </tr>    <tr> \n",
       "        <th id=\"T_6ba8be34_fa4d_11e8_8db5_28c63fc57d3elevel0_row57\" class=\"row_heading level0 row57\" >57</th> \n",
       "        <td id=\"T_6ba8be34_fa4d_11e8_8db5_28c63fc57d3erow57_col0\" class=\"data row57 col0\" >url</td> \n",
       "        <td id=\"T_6ba8be34_fa4d_11e8_8db5_28c63fc57d3erow57_col1\" class=\"data row57 col1\" >URL for the LC page with listing data.</td> \n",
       "    </tr>    <tr> \n",
       "        <th id=\"T_6ba8be34_fa4d_11e8_8db5_28c63fc57d3elevel0_row58\" class=\"row_heading level0 row58\" >58</th> \n",
       "        <td id=\"T_6ba8be34_fa4d_11e8_8db5_28c63fc57d3erow58_col0\" class=\"data row58 col0\" >verified_status_joint</td> \n",
       "        <td id=\"T_6ba8be34_fa4d_11e8_8db5_28c63fc57d3erow58_col1\" class=\"data row58 col1\" >Indicates if the co-borrowers' joint income was verified by LC, not verified, or if the income source was verified</td> \n",
       "    </tr>    <tr> \n",
       "        <th id=\"T_6ba8be34_fa4d_11e8_8db5_28c63fc57d3elevel0_row59\" class=\"row_heading level0 row59\" >59</th> \n",
       "        <td id=\"T_6ba8be34_fa4d_11e8_8db5_28c63fc57d3erow59_col0\" class=\"data row59 col0\" >zip_code</td> \n",
       "        <td id=\"T_6ba8be34_fa4d_11e8_8db5_28c63fc57d3erow59_col1\" class=\"data row59 col1\" >The first 3 numbers of the zip code provided by the borrower in the loan application.</td> \n",
       "    </tr>    <tr> \n",
       "        <th id=\"T_6ba8be34_fa4d_11e8_8db5_28c63fc57d3elevel0_row60\" class=\"row_heading level0 row60\" >60</th> \n",
       "        <td id=\"T_6ba8be34_fa4d_11e8_8db5_28c63fc57d3erow60_col0\" class=\"data row60 col0\" >open_acc_6m</td> \n",
       "        <td id=\"T_6ba8be34_fa4d_11e8_8db5_28c63fc57d3erow60_col1\" class=\"data row60 col1\" >Number of open trades in last 6 months</td> \n",
       "    </tr>    <tr> \n",
       "        <th id=\"T_6ba8be34_fa4d_11e8_8db5_28c63fc57d3elevel0_row61\" class=\"row_heading level0 row61\" >61</th> \n",
       "        <td id=\"T_6ba8be34_fa4d_11e8_8db5_28c63fc57d3erow61_col0\" class=\"data row61 col0\" >open_il_6m</td> \n",
       "        <td id=\"T_6ba8be34_fa4d_11e8_8db5_28c63fc57d3erow61_col1\" class=\"data row61 col1\" >Number of currently active installment trades</td> \n",
       "    </tr>    <tr> \n",
       "        <th id=\"T_6ba8be34_fa4d_11e8_8db5_28c63fc57d3elevel0_row62\" class=\"row_heading level0 row62\" >62</th> \n",
       "        <td id=\"T_6ba8be34_fa4d_11e8_8db5_28c63fc57d3erow62_col0\" class=\"data row62 col0\" >open_il_12m</td> \n",
       "        <td id=\"T_6ba8be34_fa4d_11e8_8db5_28c63fc57d3erow62_col1\" class=\"data row62 col1\" >Number of installment accounts opened in past 12 months</td> \n",
       "    </tr>    <tr> \n",
       "        <th id=\"T_6ba8be34_fa4d_11e8_8db5_28c63fc57d3elevel0_row63\" class=\"row_heading level0 row63\" >63</th> \n",
       "        <td id=\"T_6ba8be34_fa4d_11e8_8db5_28c63fc57d3erow63_col0\" class=\"data row63 col0\" >open_il_24m</td> \n",
       "        <td id=\"T_6ba8be34_fa4d_11e8_8db5_28c63fc57d3erow63_col1\" class=\"data row63 col1\" >Number of installment accounts opened in past 24 months</td> \n",
       "    </tr>    <tr> \n",
       "        <th id=\"T_6ba8be34_fa4d_11e8_8db5_28c63fc57d3elevel0_row64\" class=\"row_heading level0 row64\" >64</th> \n",
       "        <td id=\"T_6ba8be34_fa4d_11e8_8db5_28c63fc57d3erow64_col0\" class=\"data row64 col0\" >mths_since_rcnt_il</td> \n",
       "        <td id=\"T_6ba8be34_fa4d_11e8_8db5_28c63fc57d3erow64_col1\" class=\"data row64 col1\" >Months since most recent installment accounts opened</td> \n",
       "    </tr>    <tr> \n",
       "        <th id=\"T_6ba8be34_fa4d_11e8_8db5_28c63fc57d3elevel0_row65\" class=\"row_heading level0 row65\" >65</th> \n",
       "        <td id=\"T_6ba8be34_fa4d_11e8_8db5_28c63fc57d3erow65_col0\" class=\"data row65 col0\" >total_bal_il</td> \n",
       "        <td id=\"T_6ba8be34_fa4d_11e8_8db5_28c63fc57d3erow65_col1\" class=\"data row65 col1\" >Total current balance of all installment accounts</td> \n",
       "    </tr>    <tr> \n",
       "        <th id=\"T_6ba8be34_fa4d_11e8_8db5_28c63fc57d3elevel0_row66\" class=\"row_heading level0 row66\" >66</th> \n",
       "        <td id=\"T_6ba8be34_fa4d_11e8_8db5_28c63fc57d3erow66_col0\" class=\"data row66 col0\" >il_util</td> \n",
       "        <td id=\"T_6ba8be34_fa4d_11e8_8db5_28c63fc57d3erow66_col1\" class=\"data row66 col1\" >Ratio of total current balance to high credit/credit limit on all install acct</td> \n",
       "    </tr>    <tr> \n",
       "        <th id=\"T_6ba8be34_fa4d_11e8_8db5_28c63fc57d3elevel0_row67\" class=\"row_heading level0 row67\" >67</th> \n",
       "        <td id=\"T_6ba8be34_fa4d_11e8_8db5_28c63fc57d3erow67_col0\" class=\"data row67 col0\" >open_rv_12m</td> \n",
       "        <td id=\"T_6ba8be34_fa4d_11e8_8db5_28c63fc57d3erow67_col1\" class=\"data row67 col1\" >Number of revolving trades opened in past 12 months</td> \n",
       "    </tr>    <tr> \n",
       "        <th id=\"T_6ba8be34_fa4d_11e8_8db5_28c63fc57d3elevel0_row68\" class=\"row_heading level0 row68\" >68</th> \n",
       "        <td id=\"T_6ba8be34_fa4d_11e8_8db5_28c63fc57d3erow68_col0\" class=\"data row68 col0\" >open_rv_24m</td> \n",
       "        <td id=\"T_6ba8be34_fa4d_11e8_8db5_28c63fc57d3erow68_col1\" class=\"data row68 col1\" >Number of revolving trades opened in past 24 months</td> \n",
       "    </tr>    <tr> \n",
       "        <th id=\"T_6ba8be34_fa4d_11e8_8db5_28c63fc57d3elevel0_row69\" class=\"row_heading level0 row69\" >69</th> \n",
       "        <td id=\"T_6ba8be34_fa4d_11e8_8db5_28c63fc57d3erow69_col0\" class=\"data row69 col0\" >max_bal_bc</td> \n",
       "        <td id=\"T_6ba8be34_fa4d_11e8_8db5_28c63fc57d3erow69_col1\" class=\"data row69 col1\" >Maximum current balance owed on all revolving accounts</td> \n",
       "    </tr>    <tr> \n",
       "        <th id=\"T_6ba8be34_fa4d_11e8_8db5_28c63fc57d3elevel0_row70\" class=\"row_heading level0 row70\" >70</th> \n",
       "        <td id=\"T_6ba8be34_fa4d_11e8_8db5_28c63fc57d3erow70_col0\" class=\"data row70 col0\" >all_util</td> \n",
       "        <td id=\"T_6ba8be34_fa4d_11e8_8db5_28c63fc57d3erow70_col1\" class=\"data row70 col1\" >Balance to credit limit on all trades</td> \n",
       "    </tr>    <tr> \n",
       "        <th id=\"T_6ba8be34_fa4d_11e8_8db5_28c63fc57d3elevel0_row71\" class=\"row_heading level0 row71\" >71</th> \n",
       "        <td id=\"T_6ba8be34_fa4d_11e8_8db5_28c63fc57d3erow71_col0\" class=\"data row71 col0\" >total_rev_hi_lim  </td> \n",
       "        <td id=\"T_6ba8be34_fa4d_11e8_8db5_28c63fc57d3erow71_col1\" class=\"data row71 col1\" >Total revolving high credit/credit limit</td> \n",
       "    </tr>    <tr> \n",
       "        <th id=\"T_6ba8be34_fa4d_11e8_8db5_28c63fc57d3elevel0_row72\" class=\"row_heading level0 row72\" >72</th> \n",
       "        <td id=\"T_6ba8be34_fa4d_11e8_8db5_28c63fc57d3erow72_col0\" class=\"data row72 col0\" >inq_fi</td> \n",
       "        <td id=\"T_6ba8be34_fa4d_11e8_8db5_28c63fc57d3erow72_col1\" class=\"data row72 col1\" >Number of personal finance inquiries</td> \n",
       "    </tr>    <tr> \n",
       "        <th id=\"T_6ba8be34_fa4d_11e8_8db5_28c63fc57d3elevel0_row73\" class=\"row_heading level0 row73\" >73</th> \n",
       "        <td id=\"T_6ba8be34_fa4d_11e8_8db5_28c63fc57d3erow73_col0\" class=\"data row73 col0\" >total_cu_tl</td> \n",
       "        <td id=\"T_6ba8be34_fa4d_11e8_8db5_28c63fc57d3erow73_col1\" class=\"data row73 col1\" >Number of finance trades</td> \n",
       "    </tr>    <tr> \n",
       "        <th id=\"T_6ba8be34_fa4d_11e8_8db5_28c63fc57d3elevel0_row74\" class=\"row_heading level0 row74\" >74</th> \n",
       "        <td id=\"T_6ba8be34_fa4d_11e8_8db5_28c63fc57d3erow74_col0\" class=\"data row74 col0\" >inq_last_12m</td> \n",
       "        <td id=\"T_6ba8be34_fa4d_11e8_8db5_28c63fc57d3erow74_col1\" class=\"data row74 col1\" >Number of credit inquiries in past 12 months</td> \n",
       "    </tr>    <tr> \n",
       "        <th id=\"T_6ba8be34_fa4d_11e8_8db5_28c63fc57d3elevel0_row75\" class=\"row_heading level0 row75\" >75</th> \n",
       "        <td id=\"T_6ba8be34_fa4d_11e8_8db5_28c63fc57d3erow75_col0\" class=\"data row75 col0\" >acc_now_delinq</td> \n",
       "        <td id=\"T_6ba8be34_fa4d_11e8_8db5_28c63fc57d3erow75_col1\" class=\"data row75 col1\" >The number of accounts on which the borrower is now delinquent.</td> \n",
       "    </tr>    <tr> \n",
       "        <th id=\"T_6ba8be34_fa4d_11e8_8db5_28c63fc57d3elevel0_row76\" class=\"row_heading level0 row76\" >76</th> \n",
       "        <td id=\"T_6ba8be34_fa4d_11e8_8db5_28c63fc57d3erow76_col0\" class=\"data row76 col0\" >tot_coll_amt</td> \n",
       "        <td id=\"T_6ba8be34_fa4d_11e8_8db5_28c63fc57d3erow76_col1\" class=\"data row76 col1\" >Total collection amounts ever owed</td> \n",
       "    </tr>    <tr> \n",
       "        <th id=\"T_6ba8be34_fa4d_11e8_8db5_28c63fc57d3elevel0_row77\" class=\"row_heading level0 row77\" >77</th> \n",
       "        <td id=\"T_6ba8be34_fa4d_11e8_8db5_28c63fc57d3erow77_col0\" class=\"data row77 col0\" >tot_cur_bal</td> \n",
       "        <td id=\"T_6ba8be34_fa4d_11e8_8db5_28c63fc57d3erow77_col1\" class=\"data row77 col1\" >Total current balance of all accounts</td> \n",
       "    </tr></tbody> \n",
       "</table> "
      ],
      "text/plain": [
       "<pandas.io.formats.style.Styler at 0x28587675c88>"
      ]
     },
     "execution_count": 69,
     "metadata": {},
     "output_type": "execute_result"
    }
   ],
   "source": [
    "df_description.style.set_properties(subset=['Description'], **{'width': '1000px'})"
   ]
  },
  {
   "cell_type": "code",
   "execution_count": 70,
   "metadata": {
    "scrolled": true
   },
   "outputs": [
    {
     "data": {
      "text/plain": [
       "id                                  0\n",
       "member_id                           0\n",
       "loan_amnt                           0\n",
       "funded_amnt                         0\n",
       "funded_amnt_inv                     0\n",
       "term                                0\n",
       "int_rate                            0\n",
       "installment                         0\n",
       "grade                               0\n",
       "sub_grade                           0\n",
       "emp_title                       51462\n",
       "emp_length                      44825\n",
       "home_ownership                      0\n",
       "annual_inc                          4\n",
       "verification_status                 0\n",
       "issue_d                             0\n",
       "loan_status                         0\n",
       "pymnt_plan                          0\n",
       "url                                 0\n",
       "desc                           761351\n",
       "purpose                             0\n",
       "title                             152\n",
       "zip_code                            0\n",
       "addr_state                          0\n",
       "dti                                 0\n",
       "delinq_2yrs                        29\n",
       "earliest_cr_line                   29\n",
       "inq_last_6mths                     29\n",
       "mths_since_last_delinq         454312\n",
       "mths_since_last_record         750326\n",
       "                                ...  \n",
       "collection_recovery_fee             0\n",
       "last_pymnt_d                    17659\n",
       "last_pymnt_amnt                     0\n",
       "next_pymnt_d                   252971\n",
       "last_credit_pull_d                 53\n",
       "collections_12_mths_ex_med        145\n",
       "mths_since_last_major_derog    665676\n",
       "policy_code                         0\n",
       "application_type                    0\n",
       "annual_inc_joint               886868\n",
       "dti_joint                      886870\n",
       "verification_status_joint      886868\n",
       "acc_now_delinq                     29\n",
       "tot_coll_amt                    70276\n",
       "tot_cur_bal                     70276\n",
       "open_acc_6m                    866007\n",
       "open_il_6m                     866007\n",
       "open_il_12m                    866007\n",
       "open_il_24m                    866007\n",
       "mths_since_rcnt_il             866569\n",
       "total_bal_il                   866007\n",
       "il_util                        868762\n",
       "open_rv_12m                    866007\n",
       "open_rv_24m                    866007\n",
       "max_bal_bc                     866007\n",
       "all_util                       866007\n",
       "total_rev_hi_lim                70276\n",
       "inq_fi                         866007\n",
       "total_cu_tl                    866007\n",
       "inq_last_12m                   866007\n",
       "Length: 74, dtype: int64"
      ]
     },
     "execution_count": 70,
     "metadata": {},
     "output_type": "execute_result"
    }
   ],
   "source": [
    "df.isnull().sum()"
   ]
  },
  {
   "cell_type": "code",
   "execution_count": 71,
   "metadata": {},
   "outputs": [],
   "source": [
    "def null_values(df):\n",
    "    mis_val = df.isnull().sum()\n",
    "    mis_val_percent = 100 * df.isnull().sum()/len(df)\n",
    "    mis_val_table=pd.concat([mis_val,mis_val_percent],axis = 1)\n",
    "    mis_val_ren_columns = mis_val_table.rename(columns={0 : \"Missing Values\", 1 : \"% of Missing Values\"})\n",
    "    mis_val_ren_columns = mis_val_ren_columns[mis_val_ren_columns.iloc[:,1] != 0].sort_values('% of Missing Values',ascending=False).round(1)\n",
    "    print (\"Dataframe has \" + str(df.shape[1]) + \" columns.\\n\"      \n",
    "            \"There are \" + str(mis_val_ren_columns.shape[0]) +\n",
    "              \" columns that have missing values.\")\n",
    "    return mis_val_ren_columns"
   ]
  },
  {
   "cell_type": "code",
   "execution_count": 72,
   "metadata": {},
   "outputs": [
    {
     "name": "stdout",
     "output_type": "stream",
     "text": [
      "Dataframe has 74 columns.\n",
      "There are 40 columns that have missing values.\n"
     ]
    },
    {
     "data": {
      "text/html": [
       "<div>\n",
       "<style scoped>\n",
       "    .dataframe tbody tr th:only-of-type {\n",
       "        vertical-align: middle;\n",
       "    }\n",
       "\n",
       "    .dataframe tbody tr th {\n",
       "        vertical-align: top;\n",
       "    }\n",
       "\n",
       "    .dataframe thead th {\n",
       "        text-align: right;\n",
       "    }\n",
       "</style>\n",
       "<table border=\"1\" class=\"dataframe\">\n",
       "  <thead>\n",
       "    <tr style=\"text-align: right;\">\n",
       "      <th></th>\n",
       "      <th>Missing Values</th>\n",
       "      <th>% of Missing Values</th>\n",
       "    </tr>\n",
       "  </thead>\n",
       "  <tbody>\n",
       "    <tr>\n",
       "      <th>dti_joint</th>\n",
       "      <td>886870</td>\n",
       "      <td>99.9</td>\n",
       "    </tr>\n",
       "    <tr>\n",
       "      <th>annual_inc_joint</th>\n",
       "      <td>886868</td>\n",
       "      <td>99.9</td>\n",
       "    </tr>\n",
       "    <tr>\n",
       "      <th>verification_status_joint</th>\n",
       "      <td>886868</td>\n",
       "      <td>99.9</td>\n",
       "    </tr>\n",
       "    <tr>\n",
       "      <th>il_util</th>\n",
       "      <td>868762</td>\n",
       "      <td>97.9</td>\n",
       "    </tr>\n",
       "    <tr>\n",
       "      <th>mths_since_rcnt_il</th>\n",
       "      <td>866569</td>\n",
       "      <td>97.7</td>\n",
       "    </tr>\n",
       "    <tr>\n",
       "      <th>total_cu_tl</th>\n",
       "      <td>866007</td>\n",
       "      <td>97.6</td>\n",
       "    </tr>\n",
       "    <tr>\n",
       "      <th>inq_fi</th>\n",
       "      <td>866007</td>\n",
       "      <td>97.6</td>\n",
       "    </tr>\n",
       "    <tr>\n",
       "      <th>all_util</th>\n",
       "      <td>866007</td>\n",
       "      <td>97.6</td>\n",
       "    </tr>\n",
       "    <tr>\n",
       "      <th>max_bal_bc</th>\n",
       "      <td>866007</td>\n",
       "      <td>97.6</td>\n",
       "    </tr>\n",
       "    <tr>\n",
       "      <th>open_rv_24m</th>\n",
       "      <td>866007</td>\n",
       "      <td>97.6</td>\n",
       "    </tr>\n",
       "    <tr>\n",
       "      <th>open_rv_12m</th>\n",
       "      <td>866007</td>\n",
       "      <td>97.6</td>\n",
       "    </tr>\n",
       "    <tr>\n",
       "      <th>total_bal_il</th>\n",
       "      <td>866007</td>\n",
       "      <td>97.6</td>\n",
       "    </tr>\n",
       "    <tr>\n",
       "      <th>open_il_24m</th>\n",
       "      <td>866007</td>\n",
       "      <td>97.6</td>\n",
       "    </tr>\n",
       "    <tr>\n",
       "      <th>open_il_12m</th>\n",
       "      <td>866007</td>\n",
       "      <td>97.6</td>\n",
       "    </tr>\n",
       "    <tr>\n",
       "      <th>open_il_6m</th>\n",
       "      <td>866007</td>\n",
       "      <td>97.6</td>\n",
       "    </tr>\n",
       "    <tr>\n",
       "      <th>open_acc_6m</th>\n",
       "      <td>866007</td>\n",
       "      <td>97.6</td>\n",
       "    </tr>\n",
       "    <tr>\n",
       "      <th>inq_last_12m</th>\n",
       "      <td>866007</td>\n",
       "      <td>97.6</td>\n",
       "    </tr>\n",
       "    <tr>\n",
       "      <th>desc</th>\n",
       "      <td>761351</td>\n",
       "      <td>85.8</td>\n",
       "    </tr>\n",
       "    <tr>\n",
       "      <th>mths_since_last_record</th>\n",
       "      <td>750326</td>\n",
       "      <td>84.6</td>\n",
       "    </tr>\n",
       "    <tr>\n",
       "      <th>mths_since_last_major_derog</th>\n",
       "      <td>665676</td>\n",
       "      <td>75.0</td>\n",
       "    </tr>\n",
       "  </tbody>\n",
       "</table>\n",
       "</div>"
      ],
      "text/plain": [
       "                             Missing Values  % of Missing Values\n",
       "dti_joint                            886870                 99.9\n",
       "annual_inc_joint                     886868                 99.9\n",
       "verification_status_joint            886868                 99.9\n",
       "il_util                              868762                 97.9\n",
       "mths_since_rcnt_il                   866569                 97.7\n",
       "total_cu_tl                          866007                 97.6\n",
       "inq_fi                               866007                 97.6\n",
       "all_util                             866007                 97.6\n",
       "max_bal_bc                           866007                 97.6\n",
       "open_rv_24m                          866007                 97.6\n",
       "open_rv_12m                          866007                 97.6\n",
       "total_bal_il                         866007                 97.6\n",
       "open_il_24m                          866007                 97.6\n",
       "open_il_12m                          866007                 97.6\n",
       "open_il_6m                           866007                 97.6\n",
       "open_acc_6m                          866007                 97.6\n",
       "inq_last_12m                         866007                 97.6\n",
       "desc                                 761351                 85.8\n",
       "mths_since_last_record               750326                 84.6\n",
       "mths_since_last_major_derog          665676                 75.0"
      ]
     },
     "execution_count": 72,
     "metadata": {},
     "output_type": "execute_result"
    }
   ],
   "source": [
    "# Missing values statistics\n",
    "miss_values = null_values(df)\n",
    "miss_values.head(20)\n"
   ]
  },
  {
   "cell_type": "markdown",
   "metadata": {},
   "source": [
    "Now if we have a look at the percentage of missing data in many columns is far more than we could work with . So it is better if we remove a certain columns by setting a threshold values in the further section.\n"
   ]
  },
  {
   "cell_type": "code",
   "execution_count": 73,
   "metadata": {},
   "outputs": [
    {
     "data": {
      "text/plain": [
       "Current                                                601779\n",
       "Fully Paid                                             207723\n",
       "Charged Off                                             45248\n",
       "Late (31-120 days)                                      11591\n",
       "Issued                                                   8460\n",
       "In Grace Period                                          6253\n",
       "Late (16-30 days)                                        2357\n",
       "Does not meet the credit policy. Status:Fully Paid       1988\n",
       "Default                                                  1219\n",
       "Does not meet the credit policy. Status:Charged Off       761\n",
       "Name: loan_status, dtype: int64"
      ]
     },
     "execution_count": 73,
     "metadata": {},
     "output_type": "execute_result"
    }
   ],
   "source": [
    "df['loan_status'].value_counts()"
   ]
  },
  {
   "cell_type": "markdown",
   "metadata": {},
   "source": [
    "Here we are interested in the loan status with default value thus we assign 1 as default and 0 for any other category."
   ]
  },
  {
   "cell_type": "code",
   "execution_count": 74,
   "metadata": {},
   "outputs": [
    {
     "data": {
      "text/plain": [
       "0    886160\n",
       "1      1219\n",
       "Name: TARGET, dtype: int64"
      ]
     },
     "execution_count": 74,
     "metadata": {},
     "output_type": "execute_result"
    }
   ],
   "source": [
    "target_list = [1 if i=='Default' else 0 for i in df['loan_status']]\n",
    "\n",
    "df['TARGET'] = target_list\n",
    "df['TARGET'].value_counts()"
   ]
  },
  {
   "cell_type": "markdown",
   "metadata": {},
   "source": [
    "From the above output we can clearly see that this is the case of imbalance class problem where the value of class is far less than the other. There are cost function based approaches and sampling based approaches for handling this kind of problem which we will use later so that our model doesn't exhibit high bias while trying to predict if a loan will default or not. Now since we have modified the targer variable we will drop the loan_status variable"
   ]
  },
  {
   "cell_type": "code",
   "execution_count": 75,
   "metadata": {},
   "outputs": [],
   "source": [
    "df.drop('loan_status',axis=1,inplace=True)"
   ]
  },
  {
   "cell_type": "markdown",
   "metadata": {},
   "source": [
    "Now let us visualize the datatypes that we will be working with"
   ]
  },
  {
   "cell_type": "code",
   "execution_count": 76,
   "metadata": {},
   "outputs": [
    {
     "data": {
      "text/plain": [
       "Text(0,0.5,'Data type')"
      ]
     },
     "execution_count": 76,
     "metadata": {},
     "output_type": "execute_result"
    },
    {
     "data": {
      "image/png": "[encoded data removed]",
      "text/plain": [
       "<Figure size 432x288 with 1 Axes>"
      ]
     },
     "metadata": {},
     "output_type": "display_data"
    }
   ],
   "source": [
    "df.dtypes.value_counts().sort_values().plot(kind='barh')\n",
    "plt.title('Number of columns distributed by Data Types',fontsize=20)\n",
    "plt.xlabel('Number of columns',fontsize=15)\n",
    "plt.ylabel('Data type',fontsize=15)"
   ]
  },
  {
   "cell_type": "markdown",
   "metadata": {},
   "source": [
    "After looking at the above distribution we can say that there are quite a number of columns that have object as the datatype which will impose problem while modelling"
   ]
  },
  {
   "cell_type": "code",
   "execution_count": 77,
   "metadata": {},
   "outputs": [
    {
     "data": {
      "text/plain": [
       "grade                             7\n",
       "sub_grade                        35\n",
       "emp_title                    299271\n",
       "emp_length                       11\n",
       "home_ownership                    6\n",
       "verification_status               3\n",
       "issue_d                         103\n",
       "url                          887379\n",
       "desc                         124469\n",
       "purpose                          14\n",
       "title                         63144\n",
       "zip_code                        935\n",
       "addr_state                       51\n",
       "earliest_cr_line                697\n",
       "last_pymnt_d                     98\n",
       "next_pymnt_d                    100\n",
       "last_credit_pull_d              103\n",
       "verification_status_joint         3\n",
       "dtype: int64"
      ]
     },
     "execution_count": 77,
     "metadata": {},
     "output_type": "execute_result"
    }
   ],
   "source": [
    "df.select_dtypes('object').apply(pd.Series.nunique, axis = 0)"
   ]
  },
  {
   "cell_type": "markdown",
   "metadata": {},
   "source": [
    "We would want to label encode the columns having only 2 categorical data and one-hot encode columns with more than 2 categorical data. Also, columns like emp_title, url, desc, etc. should be dropped because there aren't any large number of unique data for any of the categories they contain. Also, Principal Component Analysis can be carried out for the one-hot encoded columns to bring the feature dimensions down."
   ]
  },
  {
   "cell_type": "markdown",
   "metadata": {},
   "source": [
    "# Anomaly Detection"
   ]
  },
  {
   "cell_type": "code",
   "execution_count": 78,
   "metadata": {},
   "outputs": [
    {
     "data": {
      "text/plain": [
       "44825"
      ]
     },
     "execution_count": 78,
     "metadata": {},
     "output_type": "execute_result"
    }
   ],
   "source": [
    "df['emp_length'].isnull().sum()"
   ]
  },
  {
   "cell_type": "code",
   "execution_count": 79,
   "metadata": {},
   "outputs": [
    {
     "data": {
      "text/plain": [
       "10+ years    291569\n",
       "2 years       78870\n",
       "< 1 year      70605\n",
       "3 years       70026\n",
       "1 year        57095\n",
       "5 years       55704\n",
       "4 years       52529\n",
       "7 years       44594\n",
       "8 years       43955\n",
       "6 years       42950\n",
       "9 years       34657\n",
       "Name: emp_length, dtype: int64"
      ]
     },
     "execution_count": 79,
     "metadata": {},
     "output_type": "execute_result"
    }
   ],
   "source": [
    "df['emp_length'].value_counts()"
   ]
  },
  {
   "cell_type": "markdown",
   "metadata": {},
   "source": [
    "Filling na values with 0 and fiotering numbers in place of year using a regular expression to extract the mumbers from a string"
   ]
  },
  {
   "cell_type": "code",
   "execution_count": 80,
   "metadata": {},
   "outputs": [],
   "source": [
    "df['emp_length'].fillna(value=0,inplace=True)\n",
    "\n",
    "df['emp_length'].replace(to_replace='[^0-9]+', value='', inplace=True, regex=True)"
   ]
  },
  {
   "cell_type": "markdown",
   "metadata": {},
   "source": [
    "Checking the null values in the emp_length variable again to verify that there are no null values in the column"
   ]
  },
  {
   "cell_type": "code",
   "execution_count": 81,
   "metadata": {},
   "outputs": [
    {
     "data": {
      "text/plain": [
       "0"
      ]
     },
     "execution_count": 81,
     "metadata": {},
     "output_type": "execute_result"
    }
   ],
   "source": [
    "df['emp_length'].isnull().sum()"
   ]
  },
  {
   "cell_type": "code",
   "execution_count": 82,
   "metadata": {},
   "outputs": [
    {
     "data": {
      "text/plain": [
       "10    291569\n",
       "1     127700\n",
       "2      78870\n",
       "3      70026\n",
       "5      55704\n",
       "4      52529\n",
       "0      44825\n",
       "7      44594\n",
       "8      43955\n",
       "6      42950\n",
       "9      34657\n",
       "Name: emp_length, dtype: int64"
      ]
     },
     "execution_count": 82,
     "metadata": {},
     "output_type": "execute_result"
    }
   ],
   "source": [
    "df['emp_length'].value_counts()"
   ]
  },
  {
   "cell_type": "code",
   "execution_count": 84,
   "metadata": {},
   "outputs": [
    {
     "data": {
      "image/png": "[encoded data removed]",
      "text/plain": [
       "<Figure size 1296x576 with 1 Axes>"
      ]
     },
     "metadata": {},
     "output_type": "display_data"
    }
   ],
   "source": [
    "df['emp_length'].value_counts().sort_values().plot(kind='barh',figsize=(18,8))\n",
    "plt.title('Number of loans distributed by Employment Years',fontsize=20)\n",
    "plt.xlabel('Number of loans',fontsize=15)\n",
    "plt.ylabel('Years worked',fontsize=15);"
   ]
  },
  {
   "cell_type": "markdown",
   "metadata": {},
   "source": [
    "The column looks fine. Also, it can be seen that people who have worked for 10 or more years are more likely to take a loan."
   ]
  },
  {
   "cell_type": "code",
   "execution_count": 85,
   "metadata": {},
   "outputs": [
    {
     "data": {
      "image/png": "[encoded data removed]",
      "text/plain": [
       "<Figure size 864x432 with 1 Axes>"
      ]
     },
     "metadata": {},
     "output_type": "display_data"
    }
   ],
   "source": [
    "fig = plt.figure(figsize=(12,6))\n",
    "sns.violinplot(x=\"TARGET\",y=\"loan_amnt\",data=df, hue=\"pymnt_plan\", split=True)\n",
    "plt.title(\"Payment plan - Loan Amount\", fontsize=20)\n",
    "plt.xlabel(\"TARGET\", fontsize=15)\n",
    "plt.ylabel(\"Loan Amount\", fontsize=15);"
   ]
  },
  {
   "cell_type": "markdown",
   "metadata": {},
   "source": [
    "Naturally, the defaulted loans had no payment plan"
   ]
  },
  {
   "cell_type": "markdown",
   "metadata": {},
   "source": [
    "# Exploratory Data Analysis\n",
    "\n",
    "Let us remove all the columns with more than 70% missing data as they won't be helping for modelling and exploration."
   ]
  },
  {
   "cell_type": "code",
   "execution_count": 86,
   "metadata": {},
   "outputs": [],
   "source": [
    "#Storing TRUE if the count of that column is less than 70%\n",
    "temp = [i for i in df.count()<887379 *0.30] "
   ]
  },
  {
   "cell_type": "code",
   "execution_count": 87,
   "metadata": {},
   "outputs": [],
   "source": [
    "#Dropping the columns that have more than 70% of na values\n",
    "df.drop(df.columns[temp],axis=1,inplace=True)"
   ]
  },
  {
   "cell_type": "code",
   "execution_count": 88,
   "metadata": {},
   "outputs": [],
   "source": [
    "#Finding the correlation of Target Vlaues and then sorting the correlation -1 to 1 \n",
    "corr = df.corr()['TARGET'].sort_values()"
   ]
  },
  {
   "cell_type": "markdown",
   "metadata": {},
   "source": [
    "Let us now display the strong correlations between the targer variable and the columns that we found after filtering them"
   ]
  },
  {
   "cell_type": "code",
   "execution_count": 89,
   "metadata": {},
   "outputs": [
    {
     "name": "stdout",
     "output_type": "stream",
     "text": [
      "Most Positive Correlations:\n",
      " revol_util            0.004831\n",
      "inq_last_6mths        0.006042\n",
      "term                  0.009178\n",
      "total_rec_int         0.010490\n",
      "total_rec_late_fee    0.011758\n",
      "out_prncp             0.013938\n",
      "out_prncp_inv         0.013944\n",
      "int_rate              0.024485\n",
      "TARGET                1.000000\n",
      "policy_code                NaN\n",
      "Name: TARGET, dtype: float64\n",
      "\n",
      "Most Negative Correlations:\n",
      " last_pymnt_amnt    -0.013132\n",
      "total_rec_prncp    -0.012085\n",
      "id                 -0.010041\n",
      "member_id          -0.009836\n",
      "total_pymnt        -0.007590\n",
      "total_pymnt_inv    -0.007448\n",
      "tot_cur_bal        -0.007036\n",
      "annual_inc         -0.004743\n",
      "total_rev_hi_lim   -0.004729\n",
      "recoveries         -0.004157\n",
      "Name: TARGET, dtype: float64\n"
     ]
    }
   ],
   "source": [
    "#Displaying the correlations\n",
    "print('Most Positive Correlations:\\n', corr.tail(10))\n",
    "print('\\nMost Negative Correlations:\\n', corr.head(10))"
   ]
  },
  {
   "cell_type": "markdown",
   "metadata": {},
   "source": [
    "Besides from the perfect correlation of TARGET column with itself, columns like int_rate which is interest rate, out_prncp_inv which is remaining outstanding principal, etc. have high positive correlation with the TARGET column and these are quite true as higher the interest rate, higher it is harder for a borrower to pay back a loan. However, columns like out_prncp_inv, out_prncp, total_rec_int, total_rec_late_fee, inq_last_6mths and revol_util are bound to be higher when a borrower doesn't pay back a loan and thus doesn't carry much significance. So, the column of interest after int_rate could be the dti which is the Debt to Income ratio which understandably will affect if a borrower can pay back a loan or not.\n",
    "\n",
    "Also, columns like recoveries, total_rev_hi_lim, etc. have negative correlation with the TARGET column as a borrower who has paid back money is more likely to repay the loan."
   ]
  },
  {
   "cell_type": "markdown",
   "metadata": {},
   "source": [
    "Now we will examine debt to income ratio and interest rate against target variable"
   ]
  },
  {
   "cell_type": "code",
   "execution_count": 90,
   "metadata": {},
   "outputs": [
    {
     "data": {
      "text/plain": [
       "int_rate       0.079903\n",
       "revol_util     0.087844\n",
       "total_acc      0.108056\n",
       "open_acc       0.144250\n",
       "dti            1.000000\n",
       "policy_code         NaN\n",
       "Name: dti, dtype: float64"
      ]
     },
     "execution_count": 90,
     "metadata": {},
     "output_type": "execute_result"
    }
   ],
   "source": [
    "df.corr()['dti'].sort_values().tail(6)"
   ]
  },
  {
   "cell_type": "markdown",
   "metadata": {},
   "source": [
    "We can conclude from the above output that higher the debt to income ratio higher will be the interest rate i.e it is positively correlated with dti ratio"
   ]
  },
  {
   "cell_type": "markdown",
   "metadata": {},
   "source": [
    "Now, we shall plot some Kernal Density Estimation plots to see how the interest rate  and debt to income ratio are ddistributed for the Target variable"
   ]
  },
  {
   "cell_type": "code",
   "execution_count": 91,
   "metadata": {},
   "outputs": [
    {
     "data": {
      "image/png": "[encoded data removed]",
      "text/plain": [
       "<Figure size 1584x432 with 1 Axes>"
      ]
     },
     "metadata": {},
     "output_type": "display_data"
    }
   ],
   "source": [
    "fig = plt.figure(figsize=(22,6))\n",
    "sns.kdeplot(df.loc[df['TARGET'] == 1, 'int_rate'], label = 'target = 1')\n",
    "sns.kdeplot(df.loc[df['TARGET'] == 0, 'int_rate'], label = 'target = 0');\n",
    "plt.xlabel('Interest Rate (%)',fontsize=15)\n",
    "plt.ylabel('Density',fontsize=15)\n",
    "plt.title('Distribution of Interest Rate',fontsize=20);"
   ]
  },
  {
   "cell_type": "markdown",
   "metadata": {},
   "source": [
    "Here by looking at the above kernal density plots we can say that interest rate follow kind of Gaussian distribution with more density rates between 12-18%\n",
    "\n",
    "### Violin-plot of TARGET classes with distribution of loan amount differentiated by the terms."
   ]
  },
  {
   "cell_type": "code",
   "execution_count": 92,
   "metadata": {},
   "outputs": [
    {
     "data": {
      "text/plain": [
       "array([0, 1], dtype=int64)"
      ]
     },
     "execution_count": 92,
     "metadata": {},
     "output_type": "execute_result"
    }
   ],
   "source": [
    "df[\"term\"].unique()"
   ]
  },
  {
   "cell_type": "code",
   "execution_count": 93,
   "metadata": {},
   "outputs": [
    {
     "data": {
      "image/png": "[encoded data removed]",
      "text/plain": [
       "<Figure size 864x432 with 1 Axes>"
      ]
     },
     "metadata": {},
     "output_type": "display_data"
    }
   ],
   "source": [
    "fig = plt.figure(figsize=(12,6))\n",
    "sns.violinplot(x=\"TARGET\", y=\"loan_amnt\", data=df, hue=\"term\", split=True, color='pink')\n",
    "plt.title(\"Term - Loan Amount\", fontsize=20)\n",
    "plt.xlabel(\"TARGET\", fontsize=15)\n",
    "plt.ylabel(\"Loan Amount\", fontsize=15);"
   ]
  },
  {
   "cell_type": "markdown",
   "metadata": {},
   "source": [
    "From the above visualization we can say that higher the term higher is the loan amount\n",
    "\n",
    "### Violin-plot of TARGET classes with distribution of loan amount differentiated by the application type."
   ]
  },
  {
   "cell_type": "code",
   "execution_count": 94,
   "metadata": {},
   "outputs": [
    {
     "data": {
      "text/plain": [
       "array([0, 1], dtype=int64)"
      ]
     },
     "execution_count": 94,
     "metadata": {},
     "output_type": "execute_result"
    }
   ],
   "source": [
    "df[\"application_type\"].unique()"
   ]
  },
  {
   "cell_type": "markdown",
   "metadata": {},
   "source": [
    "Since we have 2 types of the application lets have a look at the distribution of loan amount for target variable with application type"
   ]
  },
  {
   "cell_type": "code",
   "execution_count": 95,
   "metadata": {},
   "outputs": [
    {
     "data": {
      "image/png": "[encoded data removed]",
      "text/plain": [
       "<Figure size 864x432 with 1 Axes>"
      ]
     },
     "metadata": {},
     "output_type": "display_data"
    }
   ],
   "source": [
    "fig = plt.figure(figsize=(12,6))\n",
    "sns.violinplot(x=\"TARGET\", y=\"loan_amnt\", data=df, hue=\"application_type\", split=True, color=\"green\")\n",
    "plt.title(\"Application Type - Loan Amount\", fontsize=20)\n",
    "plt.xlabel(\"TARGET\", fontsize=15)\n",
    "plt.ylabel(\"Loan Amount\", fontsize=15);"
   ]
  },
  {
   "cell_type": "markdown",
   "metadata": {},
   "source": [
    "From the above violin plot we can say that all the loans that have been defaulted are from individuals rather than from two or more people"
   ]
  },
  {
   "cell_type": "code",
   "execution_count": 96,
   "metadata": {},
   "outputs": [
    {
     "data": {
      "text/plain": [
       "0    886868\n",
       "1       511\n",
       "Name: application_type, dtype: int64"
      ]
     },
     "execution_count": 96,
     "metadata": {},
     "output_type": "execute_result"
    }
   ],
   "source": [
    "df['application_type'].value_counts()"
   ]
  },
  {
   "cell_type": "markdown",
   "metadata": {},
   "source": [
    "Also after seeing the number of count for application type we cant really infer that joint application status are completely safe from default loan status i.e  it isn't significant enough to conclude that the loan taken by all Joint applicants are paid back."
   ]
  },
  {
   "cell_type": "markdown",
   "metadata": {},
   "source": [
    "### Violin-plot of TARGET classes with distribution of interest rate differentiated by the loan grades"
   ]
  },
  {
   "cell_type": "code",
   "execution_count": 97,
   "metadata": {},
   "outputs": [
    {
     "data": {
      "text/plain": [
       "B    254535\n",
       "C    245860\n",
       "A    148202\n",
       "D    139542\n",
       "E     70705\n",
       "F     23046\n",
       "G      5489\n",
       "Name: grade, dtype: int64"
      ]
     },
     "execution_count": 97,
     "metadata": {},
     "output_type": "execute_result"
    }
   ],
   "source": [
    "df[\"grade\"].value_counts()"
   ]
  },
  {
   "cell_type": "code",
   "execution_count": 98,
   "metadata": {},
   "outputs": [
    {
     "data": {
      "image/png": "[encoded data removed]",
      "text/plain": [
       "<Figure size 1296x576 with 1 Axes>"
      ]
     },
     "metadata": {},
     "output_type": "display_data"
    }
   ],
   "source": [
    "fig = plt.figure(figsize=(18,8))\n",
    "sns.violinplot(x=\"TARGET\",y=\"int_rate\",data=df, hue=\"grade\")\n",
    "plt.title(\"Grade - Interest Rate\", fontsize=20)\n",
    "plt.xlabel(\"TARGET\", fontsize=15)\n",
    "plt.ylabel(\"Interest Rate\", fontsize=15);"
   ]
  },
  {
   "cell_type": "markdown",
   "metadata": {},
   "source": [
    "We can say that both target classes have similar kind of interest rates by grades."
   ]
  },
  {
   "cell_type": "markdown",
   "metadata": {},
   "source": [
    "Let us also check the correlation of annual income with loan amount taken."
   ]
  },
  {
   "cell_type": "code",
   "execution_count": 99,
   "metadata": {},
   "outputs": [
    {
     "data": {
      "text/plain": [
       "out_prncp_inv       0.211254\n",
       "total_rev_hi_lim    0.268860\n",
       "revol_bal           0.295784\n",
       "installment         0.326182\n",
       "funded_amnt_inv     0.331420\n",
       "funded_amnt         0.332466\n",
       "loan_amnt           0.332698\n",
       "tot_cur_bal         0.418332\n",
       "annual_inc          1.000000\n",
       "policy_code              NaN\n",
       "Name: annual_inc, dtype: float64"
      ]
     },
     "execution_count": 99,
     "metadata": {},
     "output_type": "execute_result"
    }
   ],
   "source": [
    "df.corr()['annual_inc'].sort_values().tail(10)"
   ]
  },
  {
   "cell_type": "markdown",
   "metadata": {},
   "source": [
    "The annual income of the applicant has high positive correlation with the amount of loan they have taken."
   ]
  },
  {
   "cell_type": "markdown",
   "metadata": {},
   "source": [
    "### From where do most of the loans tend to be defaulted?"
   ]
  },
  {
   "cell_type": "code",
   "execution_count": 100,
   "metadata": {},
   "outputs": [
    {
     "data": {
      "image/png": "[encoded data removed]",
      "text/plain": [
       "<Figure size 1296x720 with 1 Axes>"
      ]
     },
     "metadata": {},
     "output_type": "display_data"
    }
   ],
   "source": [
    "fig = plt.figure(figsize=(18,10))\n",
    "df[df['TARGET']==1].groupby('addr_state')['TARGET'].count().sort_values().plot(kind='barh')\n",
    "plt.ylabel('State',fontsize=15)\n",
    "plt.xlabel('Number of loans',fontsize=15)\n",
    "plt.title('Number of defaulted loans per state',fontsize=20);"
   ]
  },
  {
   "cell_type": "code",
   "execution_count": 101,
   "metadata": {},
   "outputs": [
    {
     "data": {
      "image/png": "[encoded data removed]",
      "text/plain": [
       "<Figure size 1296x720 with 1 Axes>"
      ]
     },
     "metadata": {},
     "output_type": "display_data"
    }
   ],
   "source": [
    "fig = plt.figure(figsize=(18,10))\n",
    "df[df['TARGET']==0].groupby('addr_state')['TARGET'].count().sort_values().plot(kind='barh')\n",
    "plt.ylabel('State')\n",
    "plt.xlabel('Number of loans')\n",
    "plt.title('Number of not-defaulted loans per state');"
   ]
  },
  {
   "cell_type": "markdown",
   "metadata": {},
   "source": [
    "It can be seen that there are more number of loans taken amount from the same states where there are more number of defaulted risk. This is why the state cannot be taken as a major feature for knowing if a loan will be defaulted or not."
   ]
  },
  {
   "cell_type": "markdown",
   "metadata": {},
   "source": [
    "Let's see if we have any members taking multiple loans."
   ]
  },
  {
   "cell_type": "code",
   "execution_count": 102,
   "metadata": {},
   "outputs": [
    {
     "data": {
      "text/plain": [
       "58732538    1\n",
       "353782      1\n",
       "Name: member_id, dtype: int64"
      ]
     },
     "execution_count": 102,
     "metadata": {},
     "output_type": "execute_result"
    }
   ],
   "source": [
    "df['member_id'].value_counts().head(2)"
   ]
  },
  {
   "cell_type": "markdown",
   "metadata": {},
   "source": [
    "From the results above we can state that not a single member has taken loan more than once thus we can drop the column"
   ]
  },
  {
   "cell_type": "markdown",
   "metadata": {},
   "source": [
    "## Cleaning the data"
   ]
  },
  {
   "cell_type": "markdown",
   "metadata": {},
   "source": [
    "As we had observe, some columns like annual_inc, int_rate, etc. may be much useful for building our model but on the other hand, some columns like id, member_id, etc. will not be helping.\n",
    "\n",
    "Also, columns like 'title' and 'emp_title' are text which cannot be one-hot encoded / label encoded as they have arbitrary categorical text and very less unique data for each of their categories."
   ]
  },
  {
   "cell_type": "code",
   "execution_count": 103,
   "metadata": {},
   "outputs": [
    {
     "data": {
      "text/plain": [
       "Teacher             13469\n",
       "Manager             11240\n",
       "Registered Nurse     5525\n",
       "Owner                5376\n",
       "RN                   5355\n",
       "Name: emp_title, dtype: int64"
      ]
     },
     "execution_count": 103,
     "metadata": {},
     "output_type": "execute_result"
    }
   ],
   "source": [
    "df['emp_title'].value_counts().head()"
   ]
  },
  {
   "cell_type": "code",
   "execution_count": 104,
   "metadata": {},
   "outputs": [],
   "source": [
    "df.drop(['id','member_id','emp_title','title','zip_code','url'],axis=1,inplace=True)"
   ]
  },
  {
   "cell_type": "code",
   "execution_count": 106,
   "metadata": {},
   "outputs": [
    {
     "data": {
      "text/plain": [
       "(887379, 48)"
      ]
     },
     "execution_count": 106,
     "metadata": {},
     "output_type": "execute_result"
    }
   ],
   "source": [
    "df.shape"
   ]
  },
  {
   "cell_type": "markdown",
   "metadata": {},
   "source": [
    "Now we have reduced the data to 48 columns.Let's print them out to get a quick look of what we are dealing with,"
   ]
  },
  {
   "cell_type": "code",
   "execution_count": 107,
   "metadata": {},
   "outputs": [
    {
     "name": "stdout",
     "output_type": "stream",
     "text": [
      "<class 'pandas.core.frame.DataFrame'>\n",
      "RangeIndex: 887379 entries, 0 to 887378\n",
      "Data columns (total 48 columns):\n",
      "loan_amnt                     887379 non-null float64\n",
      "funded_amnt                   887379 non-null float64\n",
      "funded_amnt_inv               887379 non-null float64\n",
      "term                          887379 non-null int64\n",
      "int_rate                      887379 non-null float64\n",
      "installment                   887379 non-null float64\n",
      "grade                         887379 non-null object\n",
      "sub_grade                     887379 non-null object\n",
      "emp_length                    887379 non-null object\n",
      "home_ownership                887379 non-null object\n",
      "annual_inc                    887375 non-null float64\n",
      "verification_status           887379 non-null object\n",
      "issue_d                       887379 non-null object\n",
      "pymnt_plan                    887379 non-null int64\n",
      "purpose                       887379 non-null object\n",
      "addr_state                    887379 non-null object\n",
      "dti                           887379 non-null float64\n",
      "delinq_2yrs                   887350 non-null float64\n",
      "earliest_cr_line              887350 non-null object\n",
      "inq_last_6mths                887350 non-null float64\n",
      "mths_since_last_delinq        433067 non-null float64\n",
      "open_acc                      887350 non-null float64\n",
      "pub_rec                       887350 non-null float64\n",
      "revol_bal                     887379 non-null float64\n",
      "revol_util                    886877 non-null float64\n",
      "total_acc                     887350 non-null float64\n",
      "initial_list_status           887379 non-null int64\n",
      "out_prncp                     887379 non-null float64\n",
      "out_prncp_inv                 887379 non-null float64\n",
      "total_pymnt                   887379 non-null float64\n",
      "total_pymnt_inv               887379 non-null float64\n",
      "total_rec_prncp               887379 non-null float64\n",
      "total_rec_int                 887379 non-null float64\n",
      "total_rec_late_fee            887379 non-null float64\n",
      "recoveries                    887379 non-null float64\n",
      "collection_recovery_fee       887379 non-null float64\n",
      "last_pymnt_d                  869720 non-null object\n",
      "last_pymnt_amnt               887379 non-null float64\n",
      "next_pymnt_d                  634408 non-null object\n",
      "last_credit_pull_d            887326 non-null object\n",
      "collections_12_mths_ex_med    887234 non-null float64\n",
      "policy_code                   887379 non-null float64\n",
      "application_type              887379 non-null int64\n",
      "acc_now_delinq                887350 non-null float64\n",
      "tot_coll_amt                  817103 non-null float64\n",
      "tot_cur_bal                   817103 non-null float64\n",
      "total_rev_hi_lim              817103 non-null float64\n",
      "TARGET                        887379 non-null int64\n",
      "dtypes: float64(31), int64(5), object(12)\n",
      "memory usage: 325.0+ MB\n"
     ]
    }
   ],
   "source": [
    "df.info()"
   ]
  },
  {
   "cell_type": "code",
   "execution_count": 108,
   "metadata": {},
   "outputs": [
    {
     "data": {
      "text/html": [
       "<div>\n",
       "<style scoped>\n",
       "    .dataframe tbody tr th:only-of-type {\n",
       "        vertical-align: middle;\n",
       "    }\n",
       "\n",
       "    .dataframe tbody tr th {\n",
       "        vertical-align: top;\n",
       "    }\n",
       "\n",
       "    .dataframe thead th {\n",
       "        text-align: right;\n",
       "    }\n",
       "</style>\n",
       "<table border=\"1\" class=\"dataframe\">\n",
       "  <thead>\n",
       "    <tr style=\"text-align: right;\">\n",
       "      <th></th>\n",
       "      <th>issue_d</th>\n",
       "      <th>TARGET</th>\n",
       "    </tr>\n",
       "  </thead>\n",
       "  <tbody>\n",
       "    <tr>\n",
       "      <th>0</th>\n",
       "      <td>Dec-2011</td>\n",
       "      <td>0</td>\n",
       "    </tr>\n",
       "    <tr>\n",
       "      <th>1</th>\n",
       "      <td>Dec-2011</td>\n",
       "      <td>0</td>\n",
       "    </tr>\n",
       "    <tr>\n",
       "      <th>2</th>\n",
       "      <td>Dec-2011</td>\n",
       "      <td>0</td>\n",
       "    </tr>\n",
       "    <tr>\n",
       "      <th>3</th>\n",
       "      <td>Dec-2011</td>\n",
       "      <td>0</td>\n",
       "    </tr>\n",
       "    <tr>\n",
       "      <th>4</th>\n",
       "      <td>Dec-2011</td>\n",
       "      <td>0</td>\n",
       "    </tr>\n",
       "    <tr>\n",
       "      <th>5</th>\n",
       "      <td>Dec-2011</td>\n",
       "      <td>0</td>\n",
       "    </tr>\n",
       "    <tr>\n",
       "      <th>6</th>\n",
       "      <td>Dec-2011</td>\n",
       "      <td>0</td>\n",
       "    </tr>\n",
       "    <tr>\n",
       "      <th>7</th>\n",
       "      <td>Dec-2011</td>\n",
       "      <td>0</td>\n",
       "    </tr>\n",
       "    <tr>\n",
       "      <th>8</th>\n",
       "      <td>Dec-2011</td>\n",
       "      <td>0</td>\n",
       "    </tr>\n",
       "    <tr>\n",
       "      <th>9</th>\n",
       "      <td>Dec-2011</td>\n",
       "      <td>0</td>\n",
       "    </tr>\n",
       "  </tbody>\n",
       "</table>\n",
       "</div>"
      ],
      "text/plain": [
       "    issue_d  TARGET\n",
       "0  Dec-2011       0\n",
       "1  Dec-2011       0\n",
       "2  Dec-2011       0\n",
       "3  Dec-2011       0\n",
       "4  Dec-2011       0\n",
       "5  Dec-2011       0\n",
       "6  Dec-2011       0\n",
       "7  Dec-2011       0\n",
       "8  Dec-2011       0\n",
       "9  Dec-2011       0"
      ]
     },
     "execution_count": 108,
     "metadata": {},
     "output_type": "execute_result"
    }
   ],
   "source": [
    "df.loc[:,('issue_d','TARGET')].head(10)"
   ]
  },
  {
   "cell_type": "markdown",
   "metadata": {},
   "source": [
    "First, We'll be converting the date object columns into integer number of years or months just because we do not want to blow up the number of feature columns by performing one-hot encoding on them. For filling the null values we have taken the dates with the highest number of counts."
   ]
  },
  {
   "cell_type": "code",
   "execution_count": 109,
   "metadata": {},
   "outputs": [],
   "source": [
    "#Converting the field to datetime and extracting the year and storing it in Integer format\n",
    "df['issue_d']= pd.to_datetime(df['issue_d']).apply(lambda x: int(x.strftime('%Y')))"
   ]
  },
  {
   "cell_type": "code",
   "execution_count": 110,
   "metadata": {},
   "outputs": [
    {
     "data": {
      "text/plain": [
       "dtype('int64')"
      ]
     },
     "execution_count": 110,
     "metadata": {},
     "output_type": "execute_result"
    }
   ],
   "source": [
    "#Printing the datatype of the column we just formatted\n",
    "df['issue_d'].dtype"
   ]
  },
  {
   "cell_type": "code",
   "execution_count": 111,
   "metadata": {},
   "outputs": [
    {
     "data": {
      "text/plain": [
       "2016-01-01    470150\n",
       "Name: last_pymnt_d, dtype: int64"
      ]
     },
     "execution_count": 111,
     "metadata": {},
     "output_type": "execute_result"
    }
   ],
   "source": [
    "#Printing the mode of lastpayment date to fill in the  na values\n",
    "pd.to_datetime(df['last_pymnt_d']).value_counts().head(1)"
   ]
  },
  {
   "cell_type": "code",
   "execution_count": 112,
   "metadata": {},
   "outputs": [
    {
     "data": {
      "text/plain": [
       "2016-01-01    730574\n",
       "Name: last_credit_pull_d, dtype: int64"
      ]
     },
     "execution_count": 112,
     "metadata": {},
     "output_type": "execute_result"
    }
   ],
   "source": [
    "#Printing the mode of last credit pull date to fill in the  na values\n",
    "pd.to_datetime(df['last_credit_pull_d']).value_counts().head(1)"
   ]
  },
  {
   "cell_type": "code",
   "execution_count": 113,
   "metadata": {},
   "outputs": [
    {
     "data": {
      "text/plain": [
       "2001-08-01    6659\n",
       "Name: earliest_cr_line, dtype: int64"
      ]
     },
     "execution_count": 113,
     "metadata": {},
     "output_type": "execute_result"
    }
   ],
   "source": [
    "#Printing the mode of earliest credit line date to fill in the  na values\n",
    "pd.to_datetime(df['earliest_cr_line']).value_counts().head(1)"
   ]
  },
  {
   "cell_type": "code",
   "execution_count": 114,
   "metadata": {},
   "outputs": [
    {
     "data": {
      "text/plain": [
       "2016-02-01    553406\n",
       "Name: next_pymnt_d, dtype: int64"
      ]
     },
     "execution_count": 114,
     "metadata": {},
     "output_type": "execute_result"
    }
   ],
   "source": [
    "#Printing the mode of next payment date to fill in the  na values\n",
    "pd.to_datetime(df['next_pymnt_d']).value_counts().head(1)"
   ]
  },
  {
   "cell_type": "code",
   "execution_count": 115,
   "metadata": {},
   "outputs": [],
   "source": [
    "df['last_pymnt_d']= pd.to_datetime(df['last_pymnt_d'].fillna('2016-01-01')).apply(lambda x: int(x.strftime('%m')))\n",
    "df['last_credit_pull_d']= pd.to_datetime(df['last_credit_pull_d'].fillna(\"2016-01-01\")).apply(lambda x: int(x.strftime('%m')))\n",
    "df['earliest_cr_line']= pd.to_datetime(df['earliest_cr_line'].fillna('2001-08-01')).apply(lambda x: int(x.strftime('%m')))\n",
    "df['next_pymnt_d'] = pd.to_datetime(df['next_pymnt_d'].fillna(value = '2016-02-01')).apply(lambda x:int(x.strftime(\"%Y\")))"
   ]
  },
  {
   "cell_type": "markdown",
   "metadata": {},
   "source": [
    "`Let's see how we can handle our categorical data. Two methods we can use are Label Encoding and One Hot Encoding.\n",
    "\n",
    "The problem with label encoding is that it gives the categories an arbitrary ordering. The value assigned to each of the categories is random and does not reflect any inherent aspect of the category. So, If we only have two unique values for a categorical variable (such as Yes/No), then label encoding is fine, but for more than 2 unique categories, one-hot encoding is the better option.\n",
    "\n",
    "However, due to the large number of columns originated after One-Hot Encoding, we may have to conduct Principle Component Analysis (PCA) for dimensionality reduction."
   ]
  },
  {
   "cell_type": "code",
   "execution_count": 116,
   "metadata": {},
   "outputs": [],
   "source": [
    "from sklearn import preprocessing"
   ]
  },
  {
   "cell_type": "code",
   "execution_count": 117,
   "metadata": {},
   "outputs": [
    {
     "name": "stdout",
     "output_type": "stream",
     "text": [
      "0 columns were label encoded.\n"
     ]
    }
   ],
   "source": [
    "#Performing label encoding on the object datatypes with 2or less than 2 unique categories\n",
    "count = 0\n",
    "\n",
    "for col in df:\n",
    "    if df[col].dtype == 'object':\n",
    "        if len(list(df[col].unique())) <= 2:     \n",
    "            le = preprocessing.LabelEncoder()\n",
    "            df[col] = le.fit_transform(df[col])\n",
    "            count += 1\n",
    "            print (col)\n",
    "            \n",
    "print('%d columns were label encoded.' % count)"
   ]
  },
  {
   "cell_type": "markdown",
   "metadata": {},
   "source": [
    "And one-hot encoding the rest categorical columns."
   ]
  },
  {
   "cell_type": "code",
   "execution_count": 118,
   "metadata": {},
   "outputs": [],
   "source": [
    "#Changing the structure of the object datatypes by performing one hot encoding\n",
    "df=pd.get_dummies(df)"
   ]
  },
  {
   "cell_type": "code",
   "execution_count": 119,
   "metadata": {},
   "outputs": [
    {
     "name": "stdout",
     "output_type": "stream",
     "text": [
      "(887379, 168)\n"
     ]
    }
   ],
   "source": [
    "print(df.shape)"
   ]
  },
  {
   "cell_type": "markdown",
   "metadata": {},
   "source": [
    "For the 'mths_since_last_delinq' column, We'll be filling in the missing value with the median of the columns as the data in the column is continuous."
   ]
  },
  {
   "cell_type": "code",
   "execution_count": 120,
   "metadata": {},
   "outputs": [],
   "source": [
    "df['mths_since_last_delinq'] = df['mths_since_last_delinq'].fillna(df['mths_since_last_delinq'].median())"
   ]
  },
  {
   "cell_type": "markdown",
   "metadata": {},
   "source": [
    "However for columns like 'total_rev_hi_lim','tot_col_ammnt',etc. , We won't be filling in the missing data because they will certainly be of high feature importance due to their description. If they do not seem to be of high importance we can always re-iterate and fill the missing values later.\n",
    "\n",
    "So, dropping all remaining null values,"
   ]
  },
  {
   "cell_type": "code",
   "execution_count": 121,
   "metadata": {},
   "outputs": [],
   "source": [
    "#Dropping the NA values\n",
    "df.dropna(inplace=True)"
   ]
  },
  {
   "cell_type": "markdown",
   "metadata": {},
   "source": [
    "Now we check the count of the dataset"
   ]
  },
  {
   "cell_type": "code",
   "execution_count": 122,
   "metadata": {},
   "outputs": [
    {
     "data": {
      "text/plain": [
       "loan_amnt                   816722\n",
       "purpose_home_improvement    816722\n",
       "purpose_house               816722\n",
       "dtype: int64"
      ]
     },
     "execution_count": 122,
     "metadata": {},
     "output_type": "execute_result"
    }
   ],
   "source": [
    "#Printing the count of the data in columns and printing the head of the data\n",
    "df.count().sort_values().head(3)"
   ]
  },
  {
   "cell_type": "code",
   "execution_count": 123,
   "metadata": {},
   "outputs": [
    {
     "data": {
      "text/plain": [
       "0    815522\n",
       "1      1200\n",
       "Name: TARGET, dtype: int64"
      ]
     },
     "execution_count": 123,
     "metadata": {},
     "output_type": "execute_result"
    }
   ],
   "source": [
    "df['TARGET'].value_counts()"
   ]
  },
  {
   "cell_type": "markdown",
   "metadata": {},
   "source": [
    " We are now left with a reasonable amount of data for modelling."
   ]
  },
  {
   "cell_type": "markdown",
   "metadata": {},
   "source": [
    "## Modeling"
   ]
  },
  {
   "cell_type": "markdown",
   "metadata": {},
   "source": [
    "Now for modelling we will be using ensemble method\n",
    "1. Bagging"
   ]
  },
  {
   "cell_type": "markdown",
   "metadata": {},
   "source": [
    "## 1) Bagging - Random Forest\n",
    "\n",
    "Ensemble of Decision Trees\n",
    "\n",
    "Training via the bagging method (Repeated sampling with replacement)\n",
    "\n",
    "Bagging: Sample from samples\n",
    "RF: Sample from predictors.  m=sqrt(p)m=sqrt(p)  for classification and  m=p/3m=p/3  for regression problems.\n",
    "Utilise uncorrelated trees\n",
    "\n",
    "Tmporting the required libraries for performing the algorithm"
   ]
  },
  {
   "cell_type": "code",
   "execution_count": 125,
   "metadata": {},
   "outputs": [],
   "source": [
    "from sklearn.ensemble import RandomForestClassifier\n",
    "from sklearn.model_selection import cross_val_score, cross_val_predict\n",
    "from sklearn.metrics import accuracy_score, classification_report, confusion_matrix"
   ]
  },
  {
   "cell_type": "markdown",
   "metadata": {},
   "source": [
    "Now, we create a classification report function "
   ]
  },
  {
   "cell_type": "code",
   "execution_count": 126,
   "metadata": {},
   "outputs": [],
   "source": [
    "def print_score(clf, X_train, y_train, X_test, y_test, train=True):\n",
    "    if train:\n",
    "        print(\"Train Result \\n\")\n",
    "        print(\"accuracy score: {0:.4f}\\n\".format(accuracy_score(y_train,clf.predict(X_train))))\n",
    "        print(\"Classification Report: \\n {}\\n\".format(classification_report(y_train,clf.predict(X_train))))\n",
    "        print(\"Confusion Matrix: \\n\".format(confusion_matrix(y_train,clf.predict(X_train))))\n",
    "\n",
    "        res = cross_val_score(clf, X_train, y_train, cv=10, scoring='accuracy')\n",
    "        print(\"Average Accuracy: \\t {0:.4f}\".format(np.mean(res)))\n",
    "        print(\"Accuracy SD: \\t\\t {0:.4f}\".format(np.std(res)))\n",
    "        \n",
    "    elif train==False:\n",
    "        print(\"Test Result:\\n\")        \n",
    "        print(\"accuracy score: {0:.4f}\\n\".format(accuracy_score(y_test, clf.predict(X_test))))\n",
    "        print(\"Classification Report: \\n {}\\n\".format(classification_report(y_test, clf.predict(X_test))))\n",
    "        print(\"Confusion Matrix: \\n {}\\n\".format(confusion_matrix(y_test, clf.predict(X_test))))    "
   ]
  },
  {
   "cell_type": "markdown",
   "metadata": {},
   "source": [
    "Now we shall conduct the train and the test split"
   ]
  },
  {
   "cell_type": "code",
   "execution_count": 127,
   "metadata": {},
   "outputs": [],
   "source": [
    "from sklearn.model_selection import train_test_split"
   ]
  },
  {
   "cell_type": "code",
   "execution_count": 128,
   "metadata": {},
   "outputs": [],
   "source": [
    "X_train, X_test, y_train, y_test = train_test_split(df.drop('TARGET',axis=1),df['TARGET'],test_size=0.15,random_state=101)"
   ]
  },
  {
   "cell_type": "markdown",
   "metadata": {},
   "source": [
    "Standardizing features by removing the mean and scaling to unit variance"
   ]
  },
  {
   "cell_type": "code",
   "execution_count": 138,
   "metadata": {},
   "outputs": [
    {
     "data": {
      "text/html": [
       "<div>\n",
       "<style scoped>\n",
       "    .dataframe tbody tr th:only-of-type {\n",
       "        vertical-align: middle;\n",
       "    }\n",
       "\n",
       "    .dataframe tbody tr th {\n",
       "        vertical-align: top;\n",
       "    }\n",
       "\n",
       "    .dataframe thead th {\n",
       "        text-align: right;\n",
       "    }\n",
       "</style>\n",
       "<table border=\"1\" class=\"dataframe\">\n",
       "  <thead>\n",
       "    <tr style=\"text-align: right;\">\n",
       "      <th></th>\n",
       "      <th>loan_amnt</th>\n",
       "      <th>funded_amnt</th>\n",
       "      <th>funded_amnt_inv</th>\n",
       "      <th>term</th>\n",
       "      <th>int_rate</th>\n",
       "      <th>installment</th>\n",
       "      <th>annual_inc</th>\n",
       "      <th>issue_d</th>\n",
       "      <th>pymnt_plan</th>\n",
       "      <th>dti</th>\n",
       "      <th>...</th>\n",
       "      <th>addr_state_SD</th>\n",
       "      <th>addr_state_TN</th>\n",
       "      <th>addr_state_TX</th>\n",
       "      <th>addr_state_UT</th>\n",
       "      <th>addr_state_VA</th>\n",
       "      <th>addr_state_VT</th>\n",
       "      <th>addr_state_WA</th>\n",
       "      <th>addr_state_WI</th>\n",
       "      <th>addr_state_WV</th>\n",
       "      <th>addr_state_WY</th>\n",
       "    </tr>\n",
       "  </thead>\n",
       "  <tbody>\n",
       "    <tr>\n",
       "      <th>576085</th>\n",
       "      <td>2000.0</td>\n",
       "      <td>2000.0</td>\n",
       "      <td>2000.0</td>\n",
       "      <td>0</td>\n",
       "      <td>13.33</td>\n",
       "      <td>67.71</td>\n",
       "      <td>35000.0</td>\n",
       "      <td>2015</td>\n",
       "      <td>0</td>\n",
       "      <td>29.42</td>\n",
       "      <td>...</td>\n",
       "      <td>0</td>\n",
       "      <td>0</td>\n",
       "      <td>0</td>\n",
       "      <td>0</td>\n",
       "      <td>0</td>\n",
       "      <td>0</td>\n",
       "      <td>0</td>\n",
       "      <td>0</td>\n",
       "      <td>0</td>\n",
       "      <td>0</td>\n",
       "    </tr>\n",
       "    <tr>\n",
       "      <th>868098</th>\n",
       "      <td>13625.0</td>\n",
       "      <td>13625.0</td>\n",
       "      <td>13625.0</td>\n",
       "      <td>0</td>\n",
       "      <td>14.99</td>\n",
       "      <td>472.25</td>\n",
       "      <td>38101.0</td>\n",
       "      <td>2015</td>\n",
       "      <td>0</td>\n",
       "      <td>16.06</td>\n",
       "      <td>...</td>\n",
       "      <td>0</td>\n",
       "      <td>0</td>\n",
       "      <td>0</td>\n",
       "      <td>0</td>\n",
       "      <td>0</td>\n",
       "      <td>0</td>\n",
       "      <td>0</td>\n",
       "      <td>0</td>\n",
       "      <td>0</td>\n",
       "      <td>0</td>\n",
       "    </tr>\n",
       "    <tr>\n",
       "      <th>335692</th>\n",
       "      <td>7800.0</td>\n",
       "      <td>7800.0</td>\n",
       "      <td>7800.0</td>\n",
       "      <td>0</td>\n",
       "      <td>7.12</td>\n",
       "      <td>241.27</td>\n",
       "      <td>75000.0</td>\n",
       "      <td>2014</td>\n",
       "      <td>0</td>\n",
       "      <td>12.06</td>\n",
       "      <td>...</td>\n",
       "      <td>0</td>\n",
       "      <td>0</td>\n",
       "      <td>0</td>\n",
       "      <td>0</td>\n",
       "      <td>0</td>\n",
       "      <td>0</td>\n",
       "      <td>0</td>\n",
       "      <td>0</td>\n",
       "      <td>0</td>\n",
       "      <td>0</td>\n",
       "    </tr>\n",
       "    <tr>\n",
       "      <th>776669</th>\n",
       "      <td>5250.0</td>\n",
       "      <td>5250.0</td>\n",
       "      <td>5250.0</td>\n",
       "      <td>0</td>\n",
       "      <td>13.33</td>\n",
       "      <td>177.73</td>\n",
       "      <td>48000.0</td>\n",
       "      <td>2015</td>\n",
       "      <td>0</td>\n",
       "      <td>14.98</td>\n",
       "      <td>...</td>\n",
       "      <td>0</td>\n",
       "      <td>0</td>\n",
       "      <td>0</td>\n",
       "      <td>0</td>\n",
       "      <td>0</td>\n",
       "      <td>0</td>\n",
       "      <td>0</td>\n",
       "      <td>0</td>\n",
       "      <td>0</td>\n",
       "      <td>0</td>\n",
       "    </tr>\n",
       "    <tr>\n",
       "      <th>312594</th>\n",
       "      <td>10000.0</td>\n",
       "      <td>10000.0</td>\n",
       "      <td>10000.0</td>\n",
       "      <td>0</td>\n",
       "      <td>12.49</td>\n",
       "      <td>334.49</td>\n",
       "      <td>65000.0</td>\n",
       "      <td>2014</td>\n",
       "      <td>0</td>\n",
       "      <td>9.68</td>\n",
       "      <td>...</td>\n",
       "      <td>0</td>\n",
       "      <td>0</td>\n",
       "      <td>0</td>\n",
       "      <td>0</td>\n",
       "      <td>0</td>\n",
       "      <td>0</td>\n",
       "      <td>0</td>\n",
       "      <td>0</td>\n",
       "      <td>0</td>\n",
       "      <td>0</td>\n",
       "    </tr>\n",
       "  </tbody>\n",
       "</table>\n",
       "<p>5 rows × 167 columns</p>\n",
       "</div>"
      ],
      "text/plain": [
       "        loan_amnt  funded_amnt  funded_amnt_inv  term  int_rate  installment  \\\n",
       "576085     2000.0       2000.0           2000.0     0     13.33        67.71   \n",
       "868098    13625.0      13625.0          13625.0     0     14.99       472.25   \n",
       "335692     7800.0       7800.0           7800.0     0      7.12       241.27   \n",
       "776669     5250.0       5250.0           5250.0     0     13.33       177.73   \n",
       "312594    10000.0      10000.0          10000.0     0     12.49       334.49   \n",
       "\n",
       "        annual_inc  issue_d  pymnt_plan    dti      ...        addr_state_SD  \\\n",
       "576085     35000.0     2015           0  29.42      ...                    0   \n",
       "868098     38101.0     2015           0  16.06      ...                    0   \n",
       "335692     75000.0     2014           0  12.06      ...                    0   \n",
       "776669     48000.0     2015           0  14.98      ...                    0   \n",
       "312594     65000.0     2014           0   9.68      ...                    0   \n",
       "\n",
       "        addr_state_TN  addr_state_TX  addr_state_UT  addr_state_VA  \\\n",
       "576085              0              0              0              0   \n",
       "868098              0              0              0              0   \n",
       "335692              0              0              0              0   \n",
       "776669              0              0              0              0   \n",
       "312594              0              0              0              0   \n",
       "\n",
       "        addr_state_VT  addr_state_WA  addr_state_WI  addr_state_WV  \\\n",
       "576085              0              0              0              0   \n",
       "868098              0              0              0              0   \n",
       "335692              0              0              0              0   \n",
       "776669              0              0              0              0   \n",
       "312594              0              0              0              0   \n",
       "\n",
       "        addr_state_WY  \n",
       "576085              0  \n",
       "868098              0  \n",
       "335692              0  \n",
       "776669              0  \n",
       "312594              0  \n",
       "\n",
       "[5 rows x 167 columns]"
      ]
     },
     "execution_count": 138,
     "metadata": {},
     "output_type": "execute_result"
    }
   ],
   "source": [
    "X_train.head(5)"
   ]
  },
  {
   "cell_type": "code",
   "execution_count": 139,
   "metadata": {},
   "outputs": [
    {
     "data": {
      "text/html": [
       "<div>\n",
       "<style scoped>\n",
       "    .dataframe tbody tr th:only-of-type {\n",
       "        vertical-align: middle;\n",
       "    }\n",
       "\n",
       "    .dataframe tbody tr th {\n",
       "        vertical-align: top;\n",
       "    }\n",
       "\n",
       "    .dataframe thead th {\n",
       "        text-align: right;\n",
       "    }\n",
       "</style>\n",
       "<table border=\"1\" class=\"dataframe\">\n",
       "  <thead>\n",
       "    <tr style=\"text-align: right;\">\n",
       "      <th></th>\n",
       "      <th>loan_amnt</th>\n",
       "      <th>funded_amnt</th>\n",
       "      <th>funded_amnt_inv</th>\n",
       "      <th>term</th>\n",
       "      <th>int_rate</th>\n",
       "      <th>installment</th>\n",
       "      <th>annual_inc</th>\n",
       "      <th>issue_d</th>\n",
       "      <th>pymnt_plan</th>\n",
       "      <th>dti</th>\n",
       "      <th>...</th>\n",
       "      <th>addr_state_SD</th>\n",
       "      <th>addr_state_TN</th>\n",
       "      <th>addr_state_TX</th>\n",
       "      <th>addr_state_UT</th>\n",
       "      <th>addr_state_VA</th>\n",
       "      <th>addr_state_VT</th>\n",
       "      <th>addr_state_WA</th>\n",
       "      <th>addr_state_WI</th>\n",
       "      <th>addr_state_WV</th>\n",
       "      <th>addr_state_WY</th>\n",
       "    </tr>\n",
       "  </thead>\n",
       "  <tbody>\n",
       "    <tr>\n",
       "      <th>636039</th>\n",
       "      <td>5000.0</td>\n",
       "      <td>5000.0</td>\n",
       "      <td>5000.0</td>\n",
       "      <td>0</td>\n",
       "      <td>8.18</td>\n",
       "      <td>157.10</td>\n",
       "      <td>45000.0</td>\n",
       "      <td>2015</td>\n",
       "      <td>0</td>\n",
       "      <td>17.01</td>\n",
       "      <td>...</td>\n",
       "      <td>0</td>\n",
       "      <td>0</td>\n",
       "      <td>0</td>\n",
       "      <td>0</td>\n",
       "      <td>0</td>\n",
       "      <td>0</td>\n",
       "      <td>0</td>\n",
       "      <td>0</td>\n",
       "      <td>0</td>\n",
       "      <td>0</td>\n",
       "    </tr>\n",
       "    <tr>\n",
       "      <th>677915</th>\n",
       "      <td>16500.0</td>\n",
       "      <td>16500.0</td>\n",
       "      <td>16500.0</td>\n",
       "      <td>1</td>\n",
       "      <td>8.18</td>\n",
       "      <td>335.99</td>\n",
       "      <td>60000.0</td>\n",
       "      <td>2015</td>\n",
       "      <td>0</td>\n",
       "      <td>12.90</td>\n",
       "      <td>...</td>\n",
       "      <td>0</td>\n",
       "      <td>0</td>\n",
       "      <td>0</td>\n",
       "      <td>0</td>\n",
       "      <td>0</td>\n",
       "      <td>0</td>\n",
       "      <td>0</td>\n",
       "      <td>0</td>\n",
       "      <td>0</td>\n",
       "      <td>0</td>\n",
       "    </tr>\n",
       "    <tr>\n",
       "      <th>350397</th>\n",
       "      <td>15350.0</td>\n",
       "      <td>15350.0</td>\n",
       "      <td>15350.0</td>\n",
       "      <td>1</td>\n",
       "      <td>16.29</td>\n",
       "      <td>375.66</td>\n",
       "      <td>35000.0</td>\n",
       "      <td>2014</td>\n",
       "      <td>0</td>\n",
       "      <td>22.15</td>\n",
       "      <td>...</td>\n",
       "      <td>0</td>\n",
       "      <td>0</td>\n",
       "      <td>0</td>\n",
       "      <td>0</td>\n",
       "      <td>0</td>\n",
       "      <td>0</td>\n",
       "      <td>0</td>\n",
       "      <td>0</td>\n",
       "      <td>0</td>\n",
       "      <td>0</td>\n",
       "    </tr>\n",
       "    <tr>\n",
       "      <th>419565</th>\n",
       "      <td>8000.0</td>\n",
       "      <td>8000.0</td>\n",
       "      <td>8000.0</td>\n",
       "      <td>0</td>\n",
       "      <td>13.65</td>\n",
       "      <td>272.07</td>\n",
       "      <td>170000.0</td>\n",
       "      <td>2014</td>\n",
       "      <td>0</td>\n",
       "      <td>9.18</td>\n",
       "      <td>...</td>\n",
       "      <td>0</td>\n",
       "      <td>0</td>\n",
       "      <td>0</td>\n",
       "      <td>0</td>\n",
       "      <td>0</td>\n",
       "      <td>0</td>\n",
       "      <td>0</td>\n",
       "      <td>0</td>\n",
       "      <td>0</td>\n",
       "      <td>0</td>\n",
       "    </tr>\n",
       "    <tr>\n",
       "      <th>281660</th>\n",
       "      <td>15000.0</td>\n",
       "      <td>15000.0</td>\n",
       "      <td>15000.0</td>\n",
       "      <td>0</td>\n",
       "      <td>6.49</td>\n",
       "      <td>459.67</td>\n",
       "      <td>60000.0</td>\n",
       "      <td>2014</td>\n",
       "      <td>0</td>\n",
       "      <td>25.43</td>\n",
       "      <td>...</td>\n",
       "      <td>0</td>\n",
       "      <td>0</td>\n",
       "      <td>0</td>\n",
       "      <td>0</td>\n",
       "      <td>0</td>\n",
       "      <td>0</td>\n",
       "      <td>0</td>\n",
       "      <td>0</td>\n",
       "      <td>0</td>\n",
       "      <td>0</td>\n",
       "    </tr>\n",
       "  </tbody>\n",
       "</table>\n",
       "<p>5 rows × 167 columns</p>\n",
       "</div>"
      ],
      "text/plain": [
       "        loan_amnt  funded_amnt  funded_amnt_inv  term  int_rate  installment  \\\n",
       "636039     5000.0       5000.0           5000.0     0      8.18       157.10   \n",
       "677915    16500.0      16500.0          16500.0     1      8.18       335.99   \n",
       "350397    15350.0      15350.0          15350.0     1     16.29       375.66   \n",
       "419565     8000.0       8000.0           8000.0     0     13.65       272.07   \n",
       "281660    15000.0      15000.0          15000.0     0      6.49       459.67   \n",
       "\n",
       "        annual_inc  issue_d  pymnt_plan    dti      ...        addr_state_SD  \\\n",
       "636039     45000.0     2015           0  17.01      ...                    0   \n",
       "677915     60000.0     2015           0  12.90      ...                    0   \n",
       "350397     35000.0     2014           0  22.15      ...                    0   \n",
       "419565    170000.0     2014           0   9.18      ...                    0   \n",
       "281660     60000.0     2014           0  25.43      ...                    0   \n",
       "\n",
       "        addr_state_TN  addr_state_TX  addr_state_UT  addr_state_VA  \\\n",
       "636039              0              0              0              0   \n",
       "677915              0              0              0              0   \n",
       "350397              0              0              0              0   \n",
       "419565              0              0              0              0   \n",
       "281660              0              0              0              0   \n",
       "\n",
       "        addr_state_VT  addr_state_WA  addr_state_WI  addr_state_WV  \\\n",
       "636039              0              0              0              0   \n",
       "677915              0              0              0              0   \n",
       "350397              0              0              0              0   \n",
       "419565              0              0              0              0   \n",
       "281660              0              0              0              0   \n",
       "\n",
       "        addr_state_WY  \n",
       "636039              0  \n",
       "677915              0  \n",
       "350397              0  \n",
       "419565              0  \n",
       "281660              0  \n",
       "\n",
       "[5 rows x 167 columns]"
      ]
     },
     "execution_count": 139,
     "metadata": {},
     "output_type": "execute_result"
    }
   ],
   "source": [
    "X_test.head()"
   ]
  },
  {
   "cell_type": "code",
   "execution_count": 137,
   "metadata": {},
   "outputs": [],
   "source": [
    "from sklearn.preprocessing import StandardScaler"
   ]
  },
  {
   "cell_type": "code",
   "execution_count": 140,
   "metadata": {},
   "outputs": [],
   "source": [
    "sc = StandardScaler()\n",
    "X_train = sc.fit_transform(X_train)\n",
    "X_test=sc.transform(X_test)"
   ]
  },
  {
   "cell_type": "markdown",
   "metadata": {},
   "source": [
    "Oversampling only the training set using Synthetic Minority Oversampling Technique (SMOTE)"
   ]
  },
  {
   "cell_type": "code",
   "execution_count": 159,
   "metadata": {},
   "outputs": [
    {
     "data": {
      "text/plain": [
       "0    693190\n",
       "1      1023\n",
       "Name: TARGET, dtype: int64"
      ]
     },
     "execution_count": 159,
     "metadata": {},
     "output_type": "execute_result"
    }
   ],
   "source": [
    "y_train.value_counts()"
   ]
  },
  {
   "cell_type": "code",
   "execution_count": 156,
   "metadata": {},
   "outputs": [],
   "source": [
    "from imblearn.over_sampling import SMOTE"
   ]
  },
  {
   "cell_type": "code",
   "execution_count": 160,
   "metadata": {},
   "outputs": [
    {
     "name": "stderr",
     "output_type": "stream",
     "text": [
      "C:\\Users\\Saurabh\\Anaconda3\\lib\\site-packages\\sklearn\\utils\\deprecation.py:77: DeprecationWarning: Function _ratio_float is deprecated; Use a float for 'ratio' is deprecated from version 0.2. The support will be removed in 0.4. Use a dict, str, or a callable instead.\n",
      "  warnings.warn(msg, category=DeprecationWarning)\n"
     ]
    }
   ],
   "source": [
    "sm = SMOTE(random_state=12, ratio = 1.0)\n",
    "x_train_r, y_train_r = sm.fit_sample(X_train, y_train)"
   ]
  },
  {
   "cell_type": "markdown",
   "metadata": {},
   "source": [
    "Let us check the count of output variables after appling the SMOTE function for imbalanced learning"
   ]
  },
  {
   "cell_type": "code",
   "execution_count": 167,
   "metadata": {},
   "outputs": [
    {
     "data": {
      "text/plain": [
       "693190"
      ]
     },
     "execution_count": 167,
     "metadata": {},
     "output_type": "execute_result"
    }
   ],
   "source": [
    "(y_train_r==1).sum()"
   ]
  },
  {
   "cell_type": "code",
   "execution_count": 168,
   "metadata": {},
   "outputs": [
    {
     "data": {
      "text/plain": [
       "693190"
      ]
     },
     "execution_count": 168,
     "metadata": {},
     "output_type": "execute_result"
    }
   ],
   "source": [
    "(y_train_r==0).sum()"
   ]
  },
  {
   "cell_type": "markdown",
   "metadata": {},
   "source": [
    "Now, we will bet trying out different models to get the best prediction score."
   ]
  },
  {
   "cell_type": "markdown",
   "metadata": {},
   "source": [
    "#### Creating a baseline for accuracy and recall using Logistic Regression"
   ]
  },
  {
   "cell_type": "code",
   "execution_count": 169,
   "metadata": {},
   "outputs": [
    {
     "data": {
      "text/plain": [
       "LogisticRegression(C=0.0001, class_weight=None, dual=False,\n",
       "          fit_intercept=True, intercept_scaling=1, max_iter=100,\n",
       "          multi_class='ovr', n_jobs=1, penalty='l2', random_state=21,\n",
       "          solver='liblinear', tol=0.0001, verbose=0, warm_start=False)"
      ]
     },
     "execution_count": 169,
     "metadata": {},
     "output_type": "execute_result"
    }
   ],
   "source": [
    "from sklearn.linear_model import LogisticRegression\n",
    "\n",
    "log_reg = LogisticRegression(C = 0.0001,random_state=21)\n",
    "\n",
    "log_reg.fit(x_train_r, y_train_r)"
   ]
  },
  {
   "cell_type": "code",
   "execution_count": 170,
   "metadata": {},
   "outputs": [
    {
     "name": "stdout",
     "output_type": "stream",
     "text": [
      "Test Result:\n",
      "\n",
      "accuracy score: 0.7933\n",
      "\n",
      "Classification Report: \n",
      "              precision    recall  f1-score   support\n",
      "\n",
      "          0       1.00      0.79      0.88    122332\n",
      "          1       0.01      0.86      0.01       177\n",
      "\n",
      "avg / total       1.00      0.79      0.88    122509\n",
      "\n",
      "\n",
      "Confusion Matrix: \n",
      " [[97036 25296]\n",
      " [   25   152]]\n",
      "\n"
     ]
    }
   ],
   "source": [
    "print_score(log_reg, x_train_r, y_train_r, X_test, y_test, train=False)"
   ]
  },
  {
   "cell_type": "markdown",
   "metadata": {},
   "source": [
    "The accuracy came out to be satisfactory for the baseline along with the recall score. However, precision seems to be very off.\n",
    "\n",
    "For our case, overfitting will be a huge concern. So, We are using Random Forest as it is known to decrease overfitting by selecting features at random.\n",
    "\n"
   ]
  },
  {
   "cell_type": "code",
   "execution_count": 172,
   "metadata": {},
   "outputs": [],
   "source": [
    "from sklearn.ensemble import RandomForestClassifier"
   ]
  },
  {
   "cell_type": "code",
   "execution_count": 173,
   "metadata": {},
   "outputs": [
    {
     "data": {
      "text/plain": [
       "RandomForestClassifier(bootstrap=True, class_weight=None, criterion='gini',\n",
       "            max_depth=None, max_features='auto', max_leaf_nodes=None,\n",
       "            min_impurity_decrease=0.0, min_impurity_split=None,\n",
       "            min_samples_leaf=1, min_samples_split=2,\n",
       "            min_weight_fraction_leaf=0.0, n_estimators=40, n_jobs=1,\n",
       "            oob_score=False, random_state=21, verbose=0, warm_start=False)"
      ]
     },
     "execution_count": 173,
     "metadata": {},
     "output_type": "execute_result"
    }
   ],
   "source": [
    "clf_rf = RandomForestClassifier(n_estimators=40, random_state=21)\n",
    "clf_rf.fit(x_train_r, y_train_r)"
   ]
  },
  {
   "cell_type": "code",
   "execution_count": 174,
   "metadata": {},
   "outputs": [
    {
     "name": "stdout",
     "output_type": "stream",
     "text": [
      "Test Result:\n",
      "\n",
      "accuracy score: 0.9986\n",
      "\n",
      "Classification Report: \n",
      "              precision    recall  f1-score   support\n",
      "\n",
      "          0       1.00      1.00      1.00    122332\n",
      "          1       1.00      0.06      0.11       177\n",
      "\n",
      "avg / total       1.00      1.00      1.00    122509\n",
      "\n",
      "\n",
      "Confusion Matrix: \n",
      " [[122332      0]\n",
      " [   167     10]]\n",
      "\n"
     ]
    }
   ],
   "source": [
    "print_score(clf_rf, x_train_r, y_train_r, X_test, y_test, train=False)"
   ]
  },
  {
   "cell_type": "markdown",
   "metadata": {},
   "source": [
    "Hence, From the above results we can say that Logistic regression is able to predict the outcome with about 80% accuracy and Random Forest is able to predict the data with about 99% accuracy but with lower recall values as compared to Logistic Regression which has higher recall comparatively. In order to obtain higher precision and recall rates we need to improvise the model based on past mistakes which can be done with the help of boosting using LightGBM classifier."
   ]
  }
 ],
 "metadata": {
  "kernelspec": {
   "display_name": "Python 3",
   "language": "python",
   "name": "python3"
  },
  "language_info": {
   "codemirror_mode": {
    "name": "ipython",
    "version": 3
   },
   "file_extension": ".py",
   "mimetype": "text/x-python",
   "name": "python",
   "nbconvert_exporter": "python",
   "pygments_lexer": "ipython3",
   "version": "3.6.8"
  }
 },
 "nbformat": 4,
 "nbformat_minor": 2
}
